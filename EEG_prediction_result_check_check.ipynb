{
 "cells": [
  {
   "cell_type": "markdown",
   "metadata": {},
   "source": [
    "FIR　EEG-ECoG 共通 EEG 予測 共通\n",
    "\n",
    "1. FIR 0, IIR 1, LSTM 2\n",
    "2. EEG-ECoG間でフィルター共通 0, バラバラ 1\n",
    "3. 予測対象 EEG 0, ECoG 1\n",
    "4. 予測の仕方 共通 0, NNをわける（フォルター特性が変わる） 1\n",
    "\n"
   ]
  },
  {
   "cell_type": "code",
   "execution_count": 1,
   "metadata": {
    "collapsed": false
   },
   "outputs": [],
   "source": [
    "# -*- coding: utf_8 -*-  \n",
    "%matplotlib inline\n",
    "\n",
    "import matplotlib.pyplot as plt\n",
    "import seaborn\n",
    "\n",
    "import copy\n",
    "import json\n",
    "import pandas as pd\n",
    "import numpy as np\n",
    "import datetime\n",
    "import math\n",
    "import time\n",
    "\n",
    "import chainer\n",
    "from chainer import cuda, Function, gradient_check, utils, Variable\n",
    "from chainer import optimizers, serializers\n",
    "from chainer import Link, Chain, ChainList\n",
    "import chainer.functions as F\n",
    "import chainer.links as L\n",
    "from scipy import signal\n",
    "\n",
    "\n",
    "import pickle\n",
    "import sys\n",
    "import random\n",
    "import h5py\n",
    "\n",
    "import nn_class"
   ]
  },
  {
   "cell_type": "code",
   "execution_count": 2,
   "metadata": {
    "collapsed": false
   },
   "outputs": [],
   "source": [
    "test=h5py.File('Ma/DeepANES.mat')\n",
    "\n",
    "ECoG = np.array(test['ECoG'])\n",
    "EEG = np.array(test['EEG'])\n",
    "EEG = np.delete(EEG, 14, axis=1)\n",
    "EEG = EEG.astype('float32')\n",
    "ECoG = ECoG.astype('float32')"
   ]
  },
  {
   "cell_type": "code",
   "execution_count": 3,
   "metadata": {
    "collapsed": false
   },
   "outputs": [],
   "source": [
    "order = 5\n",
    "batch_size = 1000\n",
    "time_range = 1000 * 30\n",
    "start = 0\n",
    "\n",
    "train_time = [start, time_range+start]\n",
    "hamming = signal.hamming(train_time[1]-train_time[0])\n",
    "#training ぶんだけにする\n",
    "#EEG_t = np.zeros((EEG.shape[0]-order+1, EEG.shape[1], order))\n",
    "#ECoG_t = np.zeros((ECoG.shape[0]-order+1, ECoG.shape[1], order))\n",
    "EEG_t = np.zeros((train_time[1]-train_time[0], EEG.shape[1], order))\n",
    "ECoG_t = np.zeros((train_time[1]-train_time[0], ECoG.shape[1], order))\n",
    "EEG_tmp = EEG[train_time[0]:train_time[1], :]\n",
    "ECoG_tmp = ECoG[train_time[0]:train_time[1], :]\n",
    "for t in range(order):\n",
    "    for ch in range(EEG.shape[1]):\n",
    "        #EEG_t[:,ch,t] = EEG[:EEG.shape[0]-order+1, ch] \n",
    "        EEG_t[t:,ch,t] = EEG_tmp[:time_range-t, ch] \n",
    "    for ch in range(ECoG.shape[1]):\n",
    "        #ECoG_t[:,ch,t] = ECoG[:ECoG.shape[0]-order+1, ch] \n",
    "        ECoG_t[t:,ch,t] = ECoG_tmp[:time_range-t, ch] \n",
    "EEG_t = Variable((EEG_t).astype('float32'))\n",
    "ECoG_t = Variable((ECoG_t).astype('float32'))"
   ]
  },
  {
   "cell_type": "code",
   "execution_count": 4,
   "metadata": {
    "collapsed": false
   },
   "outputs": [],
   "source": [
    "def calNN(timeSpacePerceptron, EEG_t, ECoG_t, EEG_filtered_prev, ECoG_filtered_prev, loop):\n",
    "    loss_history = np.zeros((loop, 1))\n",
    "    optimizer = optimizers.AdaDelta()\n",
    "    #optimizer = optimizers.AdaDelta()\n",
    "    optimizer.setup(timeSpacePerceptron)\n",
    "    optimizer.add_hook(chainer.optimizer.WeightDecay(0.05))\n",
    "    #optimizer.add_hook(chainer.optimizer.Lasso(0.5))\n",
    "    #optimizer.add_hook(chainer.optimizer.GradientClipping(0.5))\n",
    "    #timeSpacePerceptron.zerograds()\n",
    "    for i in range(loop):\n",
    "        timeSpacePerceptron.zerograds()\n",
    "        x1, x2, EEG_filtered_prev, ECoG_filtered_prev = timeSpacePerceptron(EEG_t, ECoG_t, EEG_filtered_prev, ECoG_filtered_prev, train=True)\n",
    "        #loss = F.cross_covariance(x1, x2)\n",
    "        loss = F.mean_squared_error(x1, x2)\n",
    "        loss.backward()\n",
    "        optimizer.prepare()\n",
    "        optimizer.update()\n",
    "        loss_history[i] = loss.data\n",
    "    return timeSpacePerceptron, loss_history, EEG_filtered_prev, ECoG_filtered_prev, x1, x2"
   ]
  },
  {
   "cell_type": "code",
   "execution_count": 5,
   "metadata": {
    "collapsed": false
   },
   "outputs": [],
   "source": [
    "def loop_calNN(EEG_t, ECoG_t, data_type, loop_num=20):\n",
    "    EEG_filtered_prev = [Variable(np.zeros((time_range, 1)).astype('float32')) for j in range(EEG.shape[1])] #前の出力をいれるところ　(RNN)\n",
    "    ECoG_filtered_prev = [Variable(np.zeros((time_range, 1)).astype('float32')) for j in range(ECoG.shape[1])] #前の出力をいれるところ\n",
    "    saved_data = dict()\n",
    "    #outout = []\n",
    "    out_loss_history = []\n",
    "    for n in range(loop_num):\n",
    "        out = []\n",
    "        loss_history = np.zeros((loop, 1))\n",
    "        timeSpacePerceptron = nn_class.__dict__[\"TimeSpacePerceptron{0}\".format(data_type)](time_range)\n",
    "        timeSpacePerceptron, loss_history, EEG_filtered_prev, ECoG_filtered_prev, x1, x2 = calNN(timeSpacePerceptron, EEG_t, ECoG_t, EEG_filtered_prev, ECoG_filtered_prev)\n",
    "        out_loss_history.append(loss_history)\n",
    "        #outout.append(timeSpacePerceptron)\n",
    "    saved_data['loss_history'] = out_loss_history\n",
    "    saved_data['NN'] = timeSpacePerceptron\n",
    "    #saved_data['NN'] = outout\n",
    "    return saved_data, EEG_filtered_prev, ECoG_filtered_prev\n",
    "\n",
    "def loop_calNN_batch(EEG_t, ECoG_t, data_type, loop_num=20,loop=10, batch_size=1000):\n",
    "    saved_data = dict()\n",
    "    #outout = []\n",
    "    out_loss_history = []\n",
    "    timeSpacePerceptron = nn_class.__dict__[\"TimeSpacePerceptron{0}\".format(data_type)](batch_size-1)\n",
    "    for n in range(loop_num):\n",
    "        for b in range(int(EEG_t.data.shape[0]/batch_size)):\n",
    "            t1 = b*batch_size\n",
    "            t2 = (b+1)*batch_size-1\n",
    "            EEG_filtered_prev = [Variable(np.zeros((batch_size-1, 1)).astype('float32')) for j in range(EEG.shape[1])] #前の出力をいれるところ　(RNN)\n",
    "            ECoG_filtered_prev = [Variable(np.zeros((batch_size-1, 1)).astype('float32')) for j in range(ECoG.shape[1])] #前の出力をいれるところ\n",
    "            out = []\n",
    "            hamming = signal.hamming(batch_size-1)\n",
    "            eeg = EEG_t[t1:t2,:,:]\n",
    "            ecog =  ECoG_t[t1:t2,:,:]\n",
    "            for k in range(eeg.data.shape[2]):\n",
    "                eeg.data[:,:,k] = eeg.data[:,:,k] * np.array([hamming]*eeg.data.shape[1]).T\n",
    "                ecog.data[:,:,k] = ecog.data[:,:,k] * np.array([hamming]*ecog.data.shape[1]).T\n",
    "            timeSpacePerceptron, loss_history, EEG_filtered_prev, ECoG_filtered_prev, x1, x2 = calNN(timeSpacePerceptron, eeg, ecog, EEG_filtered_prev, ECoG_filtered_prev, loop=loop)\n",
    "            out_loss_history.append(loss_history)\n",
    "            #outout.append(timeSpacePerceptron)\n",
    "    saved_data['loss_history'] = out_loss_history\n",
    "    saved_data['NN'] = timeSpacePerceptron\n",
    "    #saved_data['NN'] = outout\n",
    "    return saved_data, EEG_filtered_prev, ECoG_filtered_prev"
   ]
  },
  {
   "cell_type": "code",
   "execution_count": 26,
   "metadata": {
    "collapsed": false
   },
   "outputs": [
    {
     "name": "stdout",
     "output_type": "stream",
     "text": [
      "\n",
      "2098.174854040146\n"
     ]
    }
   ],
   "source": [
    "saved_data = dict()\n",
    "loop_num = 1 # main\n",
    "loop = 2000 # local\n",
    "st = time.time()\n",
    "\n",
    "\n",
    "# channle をわけない\n",
    "\n",
    "#data_type ='0000'\n",
    "#saved_data[data_type],  EEG_filtered_prev, ECoG_filtered_prev =  loop_calNN_batch(EEG_t, ECoG_t, data_type, loop_num=loop_num, loop=loop, batch_size=batch_size)\n",
    "\n",
    "data_type ='1000'\n",
    "saved_data[data_type],  EEG_filtered_prev, ECoG_filtered_prev =  loop_calNN_batch(EEG_t, ECoG_t, data_type, loop_num=loop_num, loop=loop, batch_size=batch_size)\n",
    "\n",
    "#data_type ='2000'\n",
    "#saved_data[data_type],  EEG_filtered_prev, ECoG_filtered_prev =  loop_calNN_batch(EEG_t, ECoG_t, data_type, loop_num=loop_num, batch_size=batch_size)\n",
    "\n",
    "\n",
    "print()\n",
    "print(time.time()-st)"
   ]
  },
  {
   "cell_type": "code",
   "execution_count": 27,
   "metadata": {
    "collapsed": false
   },
   "outputs": [
    {
     "data": {
      "text/plain": [
       "[<matplotlib.lines.Line2D at 0x1345802e8>]"
      ]
     },
     "execution_count": 27,
     "metadata": {},
     "output_type": "execute_result"
    },
    {
     "data": {
      "image/png": "[encoded data removed]",
      "text/plain": [
       "<matplotlib.figure.Figure at 0x135712b38>"
      ]
     },
     "metadata": {},
     "output_type": "display_data"
    }
   ],
   "source": [
    "data_type ='1000'\n",
    "plt.plot(saved_data[data_type]['loss_history'][0][100:])"
   ]
  },
  {
   "cell_type": "code",
   "execution_count": 28,
   "metadata": {
    "collapsed": true
   },
   "outputs": [],
   "source": [
    "data_type ='1000'\n",
    "corr_val = np.zeros((16, int(EEG_t.data.shape[0]/batch_size)))\n",
    "hamming = signal.hamming(batch_size-1)\n",
    "for b in range(int(EEG_t.data.shape[0]/batch_size)):\n",
    "    EEG_filtered_prev = [Variable(np.zeros((time_range, 1)).astype('float32')) for j in range(EEG.shape[1])] #前の出力をいれるところ　(RNN)\n",
    "    ECoG_filtered_prev = [Variable(np.zeros((time_range, 1)).astype('float32')) for j in range(ECoG.shape[1])] #前の出力をいれるところ\n",
    "    t1 = b*batch_size\n",
    "    t2 = (b+1)*batch_size-1\n",
    "    x1, x2, EEG_filtered_prev, ECoG_filtered_prev = saved_data[data_type]['NN'](EEG_t[t1:t2,:,:], ECoG_t[t1:t2,:,:], EEG_filtered_prev, ECoG_filtered_prev, train=False)\n",
    "    for ch in range(16):\n",
    "        corr_val[ch, b] = np.corrcoef(x1.data[:,ch], x2.data[:,ch])[0, 1]\n"
   ]
  },
  {
   "cell_type": "code",
   "execution_count": 29,
   "metadata": {
    "collapsed": false
   },
   "outputs": [
    {
     "name": "stdout",
     "output_type": "stream",
     "text": [
      "[[ 0.88431625]\n",
      " [ 0.8821595 ]\n",
      " [ 0.8174573 ]\n",
      " [ 0.87573579]\n",
      " [ 0.88953283]\n",
      " [ 0.8835931 ]\n",
      " [ 0.86495981]\n",
      " [ 0.88455616]\n",
      " [ 0.89474156]\n",
      " [ 0.88662522]\n",
      " [ 0.8909688 ]\n",
      " [ 0.88872697]\n",
      " [ 0.89022761]\n",
      " [ 0.88480155]\n",
      " [ 0.89048105]\n",
      " [ 0.88357931]]\n"
     ]
    },
    {
     "data": {
      "image/png": "[encoded data removed]",
      "text/plain": [
       "<matplotlib.figure.Figure at 0x1356f1518>"
      ]
     },
     "metadata": {},
     "output_type": "display_data"
    }
   ],
   "source": [
    "#2000 15/16 2回目\n",
    "data_type ='1000'\n",
    "plt.plot(saved_data[data_type]['loss_history'][0][50:])\n",
    "print(corr_val)"
   ]
  },
  {
   "cell_type": "code",
   "execution_count": 30,
   "metadata": {
    "collapsed": false
   },
   "outputs": [
    {
     "name": "stdout",
     "output_type": "stream",
     "text": [
      "[[ 0.88431625]\n",
      " [ 0.8821595 ]\n",
      " [ 0.8174573 ]\n",
      " [ 0.87573579]\n",
      " [ 0.88953283]\n",
      " [ 0.8835931 ]\n",
      " [ 0.86495981]\n",
      " [ 0.88455616]\n",
      " [ 0.89474156]\n",
      " [ 0.88662522]\n",
      " [ 0.8909688 ]\n",
      " [ 0.88872697]\n",
      " [ 0.89022761]\n",
      " [ 0.88480155]\n",
      " [ 0.89048105]\n",
      " [ 0.88357931]]\n"
     ]
    },
    {
     "data": {
      "image/png": "[encoded data removed]",
      "text/plain": [
       "<matplotlib.figure.Figure at 0x13565f1d0>"
      ]
     },
     "metadata": {},
     "output_type": "display_data"
    }
   ],
   "source": [
    "#1500 15/16\n",
    "data_type ='1000'\n",
    "plt.plot(saved_data[data_type]['loss_history'][0][50:])\n",
    "print(corr_val)"
   ]
  },
  {
   "cell_type": "code",
   "execution_count": 18,
   "metadata": {
    "collapsed": false
   },
   "outputs": [
    {
     "data": {
      "text/plain": [
       "[<matplotlib.lines.Line2D at 0x11580afd0>]"
      ]
     },
     "execution_count": 18,
     "metadata": {},
     "output_type": "execute_result"
    },
    {
     "data": {
      "image/png": "[encoded data removed]",
      "text/plain": [
       "<matplotlib.figure.Figure at 0x132822b00>"
      ]
     },
     "metadata": {},
     "output_type": "display_data"
    }
   ],
   "source": [
    "#500 15/16\n",
    "data_type ='1000'\n",
    "plt.plot(saved_data[data_type]['loss_history'][0][50:])"
   ]
  },
  {
   "cell_type": "code",
   "execution_count": 17,
   "metadata": {
    "collapsed": false
   },
   "outputs": [
    {
     "data": {
      "text/plain": [
       "array([[ 0.6351987 ],\n",
       "       [ 0.66279465],\n",
       "       [ 0.44048552],\n",
       "       [ 0.74889085],\n",
       "       [ 0.66208992],\n",
       "       [ 0.57899623],\n",
       "       [ 0.75433275],\n",
       "       [ 0.67818723],\n",
       "       [ 0.75828296],\n",
       "       [ 0.63660824],\n",
       "       [ 0.69275717],\n",
       "       [ 0.75645993],\n",
       "       [ 0.75128041],\n",
       "       [ 0.58148436],\n",
       "       [ 0.66311939],\n",
       "       [ 0.56588118]])"
      ]
     },
     "execution_count": 17,
     "metadata": {},
     "output_type": "execute_result"
    }
   ],
   "source": [
    "#500 15/16\n",
    "corr_val"
   ]
  },
  {
   "cell_type": "code",
   "execution_count": 12,
   "metadata": {
    "collapsed": false
   },
   "outputs": [
    {
     "data": {
      "text/plain": [
       "[<matplotlib.lines.Line2D at 0x133c3fb00>]"
      ]
     },
     "execution_count": 12,
     "metadata": {},
     "output_type": "execute_result"
    },
    {
     "data": {
      "image/png": "[encoded data removed]",
      "text/plain": [
       "<matplotlib.figure.Figure at 0x1098b87b8>"
      ]
     },
     "metadata": {},
     "output_type": "display_data"
    }
   ],
   "source": [
    "#3000 15/16\n",
    "data_type ='1000'\n",
    "plt.plot(saved_data[data_type]['loss_history'][0][100:])"
   ]
  },
  {
   "cell_type": "code",
   "execution_count": 9,
   "metadata": {
    "collapsed": false
   },
   "outputs": [
    {
     "data": {
      "text/plain": [
       "array([[ 0.7375911 ],\n",
       "       [ 0.73809407],\n",
       "       [ 0.64833944],\n",
       "       [ 0.72829797],\n",
       "       [ 0.75134167],\n",
       "       [ 0.72661433],\n",
       "       [ 0.71424757],\n",
       "       [ 0.73927231],\n",
       "       [ 0.74804685],\n",
       "       [ 0.74159869],\n",
       "       [ 0.74512812],\n",
       "       [ 0.74752114],\n",
       "       [ 0.75687055],\n",
       "       [ 0.73208339],\n",
       "       [ 0.74410047],\n",
       "       [ 0.73081011]])"
      ]
     },
     "execution_count": 9,
     "metadata": {},
     "output_type": "execute_result"
    }
   ],
   "source": [
    "#3000 15/16\n",
    "corr_val"
   ]
  },
  {
   "cell_type": "code",
   "execution_count": 9,
   "metadata": {
    "collapsed": false
   },
   "outputs": [
    {
     "data": {
      "text/plain": [
       "array([[ 0.53506963],\n",
       "       [ 0.53431379],\n",
       "       [ 0.3454605 ],\n",
       "       [ 0.47864168],\n",
       "       [ 0.53358815],\n",
       "       [ 0.52813748],\n",
       "       [ 0.47149656],\n",
       "       [ 0.52928607],\n",
       "       [ 0.52412083],\n",
       "       [ 0.53803157],\n",
       "       [ 0.53131521],\n",
       "       [ 0.53176392],\n",
       "       [ 0.5233029 ],\n",
       "       [ 0.52549998],\n",
       "       [ 0.54021288],\n",
       "       [ 0.52964042]])"
      ]
     },
     "execution_count": 9,
     "metadata": {},
     "output_type": "execute_result"
    }
   ],
   "source": [
    "#2000 0.5\n",
    "corr_val"
   ]
  },
  {
   "cell_type": "code",
   "execution_count": 19,
   "metadata": {
    "collapsed": false
   },
   "outputs": [
    {
     "data": {
      "text/plain": [
       "array([[ 0.88175283],\n",
       "       [ 0.87947197],\n",
       "       [ 0.82642778],\n",
       "       [ 0.89595621],\n",
       "       [ 0.8877394 ],\n",
       "       [ 0.88198905],\n",
       "       [ 0.89097487],\n",
       "       [ 0.89073267],\n",
       "       [ 0.90379555],\n",
       "       [ 0.88268892],\n",
       "       [ 0.89334878],\n",
       "       [ 0.90627346],\n",
       "       [ 0.91272896],\n",
       "       [ 0.87804896],\n",
       "       [ 0.8869021 ],\n",
       "       [ 0.87733368]])"
      ]
     },
     "execution_count": 19,
     "metadata": {},
     "output_type": "execute_result"
    }
   ],
   "source": [
    "#2000 15.0/16\n",
    "corr_val"
   ]
  },
  {
   "cell_type": "code",
   "execution_count": 10,
   "metadata": {
    "collapsed": false
   },
   "outputs": [
    {
     "data": {
      "text/plain": [
       "[<matplotlib.lines.Line2D at 0x1097c2908>,\n",
       " <matplotlib.lines.Line2D at 0x1097c28d0>,\n",
       " <matplotlib.lines.Line2D at 0x1097c2588>,\n",
       " <matplotlib.lines.Line2D at 0x1097c2eb8>,\n",
       " <matplotlib.lines.Line2D at 0x1097c2128>,\n",
       " <matplotlib.lines.Line2D at 0x1097c2048>,\n",
       " <matplotlib.lines.Line2D at 0x1314b84a8>,\n",
       " <matplotlib.lines.Line2D at 0x133cf93c8>,\n",
       " <matplotlib.lines.Line2D at 0x133cf9978>,\n",
       " <matplotlib.lines.Line2D at 0x133cf9cc0>,\n",
       " <matplotlib.lines.Line2D at 0x133cf9198>,\n",
       " <matplotlib.lines.Line2D at 0x133cf91d0>,\n",
       " <matplotlib.lines.Line2D at 0x1097c2898>,\n",
       " <matplotlib.lines.Line2D at 0x133d2c828>,\n",
       " <matplotlib.lines.Line2D at 0x133d2cc18>,\n",
       " <matplotlib.lines.Line2D at 0x133d2cdd8>]"
      ]
     },
     "execution_count": 10,
     "metadata": {},
     "output_type": "execute_result"
    },
    {
     "data": {
      "image/png": "[encoded data removed]",
      "text/plain": [
       "<matplotlib.figure.Figure at 0x1314bb978>"
      ]
     },
     "metadata": {},
     "output_type": "display_data"
    }
   ],
   "source": [
    "plt.plot(corr_val.T)"
   ]
  },
  {
   "cell_type": "code",
   "execution_count": null,
   "metadata": {
    "collapsed": true
   },
   "outputs": [],
   "source": [
    "### ここまで"
   ]
  },
  {
   "cell_type": "code",
   "execution_count": 60,
   "metadata": {
    "collapsed": false
   },
   "outputs": [
    {
     "name": "stdout",
     "output_type": "stream",
     "text": [
      "\n",
      "158.10014009475708\n"
     ]
    },
    {
     "name": "stderr",
     "output_type": "stream",
     "text": [
      "/Users/vv000844/.pyenvi/versions/anaconda3-2.5.0/lib/python3.5/site-packages/chainer/functions/activation/lstm.py:15: RuntimeWarning: overflow encountered in exp\n",
      "  return 1 / (1 + numpy.exp(-x))\n"
     ]
    }
   ],
   "source": [
    "saved_data = dict()\n",
    "loop = 100\n",
    "loop_num = 1\n",
    "st = time.time()\n",
    "\n",
    "# channle をわけない\n",
    "\n",
    "data_type ='0000'\n",
    "saved_data[data_type] =  loop_calNN(EEG_t, ECoG_t, data_type, loop=loop, loop_num=loop_num)\n",
    "\n",
    "data_type ='1000'\n",
    "saved_data[data_type],  EEG_filtered_prev, ECoG_filtered_prev =  loop_calNN(EEG_t, ECoG_t, data_type, loop=loop, loop_num=loop_num)\n",
    "\n",
    "data_type ='2000'\n",
    "saved_data[data_type],  EEG_filtered_prev, ECoG_filtered_prev =  loop_calNN(EEG_t[:,:,0], ECoG_t[:,:,0], data_type, loop=loop, loop_num=loop_num)\n",
    "\n",
    "print()\n",
    "print(time.time()-st)"
   ]
  },
  {
   "cell_type": "code",
   "execution_count": 82,
   "metadata": {
    "collapsed": false
   },
   "outputs": [
    {
     "ename": "InvalidType",
     "evalue": "\nInvalid operation is performed in: Concat (Forward)\n\nExpect: in_types[0].shape[0] == in_types[1].shape[0]\nActual: 10000 != 999",
     "output_type": "error",
     "traceback": [
      "\u001b[0;31m---------------------------------------------------------------------------\u001b[0m",
      "\u001b[0;31mInvalidType\u001b[0m                               Traceback (most recent call last)",
      "\u001b[0;32m/Users/vv000844/.pyenvi/versions/anaconda3-2.5.0/lib/python3.5/site-packages/chainer/function.py\u001b[0m in \u001b[0;36m_check_data_type_forward\u001b[0;34m(self, in_data)\u001b[0m\n\u001b[1;32m    183\u001b[0m         \u001b[0;32mtry\u001b[0m\u001b[0;34m:\u001b[0m\u001b[0;34m\u001b[0m\u001b[0m\n\u001b[0;32m--> 184\u001b[0;31m             \u001b[0mself\u001b[0m\u001b[0;34m.\u001b[0m\u001b[0mcheck_type_forward\u001b[0m\u001b[0;34m(\u001b[0m\u001b[0min_type\u001b[0m\u001b[0;34m)\u001b[0m\u001b[0;34m\u001b[0m\u001b[0m\n\u001b[0m\u001b[1;32m    185\u001b[0m         \u001b[0;32mexcept\u001b[0m \u001b[0mtype_check\u001b[0m\u001b[0;34m.\u001b[0m\u001b[0mInvalidType\u001b[0m \u001b[0;32mas\u001b[0m \u001b[0me\u001b[0m\u001b[0;34m:\u001b[0m\u001b[0;34m\u001b[0m\u001b[0m\n",
      "\u001b[0;32m/Users/vv000844/.pyenvi/versions/anaconda3-2.5.0/lib/python3.5/site-packages/chainer/functions/array/concat.py\u001b[0m in \u001b[0;36mcheck_type_forward\u001b[0;34m(self, in_types)\u001b[0m\n\u001b[1;32m     29\u001b[0m                     \u001b[0;32mcontinue\u001b[0m\u001b[0;34m\u001b[0m\u001b[0m\n\u001b[0;32m---> 30\u001b[0;31m                 \u001b[0mtype_check\u001b[0m\u001b[0;34m.\u001b[0m\u001b[0mexpect\u001b[0m\u001b[0;34m(\u001b[0m\u001b[0min_types\u001b[0m\u001b[0;34m[\u001b[0m\u001b[0;36m0\u001b[0m\u001b[0;34m]\u001b[0m\u001b[0;34m.\u001b[0m\u001b[0mshape\u001b[0m\u001b[0;34m[\u001b[0m\u001b[0md\u001b[0m\u001b[0;34m]\u001b[0m \u001b[0;34m==\u001b[0m \u001b[0min_types\u001b[0m\u001b[0;34m[\u001b[0m\u001b[0mi\u001b[0m\u001b[0;34m]\u001b[0m\u001b[0;34m.\u001b[0m\u001b[0mshape\u001b[0m\u001b[0;34m[\u001b[0m\u001b[0md\u001b[0m\u001b[0;34m]\u001b[0m\u001b[0;34m)\u001b[0m\u001b[0;34m\u001b[0m\u001b[0m\n\u001b[0m\u001b[1;32m     31\u001b[0m \u001b[0;34m\u001b[0m\u001b[0m\n",
      "\u001b[0;32m/Users/vv000844/.pyenvi/versions/anaconda3-2.5.0/lib/python3.5/site-packages/chainer/utils/type_check.py\u001b[0m in \u001b[0;36mexpect\u001b[0;34m(*bool_exprs)\u001b[0m\n\u001b[1;32m    465\u001b[0m         \u001b[0;32massert\u001b[0m \u001b[0misinstance\u001b[0m\u001b[0;34m(\u001b[0m\u001b[0mexpr\u001b[0m\u001b[0;34m,\u001b[0m \u001b[0mTestable\u001b[0m\u001b[0;34m)\u001b[0m\u001b[0;34m\u001b[0m\u001b[0m\n\u001b[0;32m--> 466\u001b[0;31m         \u001b[0mexpr\u001b[0m\u001b[0;34m.\u001b[0m\u001b[0mexpect\u001b[0m\u001b[0;34m(\u001b[0m\u001b[0;34m)\u001b[0m\u001b[0;34m\u001b[0m\u001b[0m\n\u001b[0m\u001b[1;32m    467\u001b[0m \u001b[0;34m\u001b[0m\u001b[0m\n",
      "\u001b[0;32m/Users/vv000844/.pyenvi/versions/anaconda3-2.5.0/lib/python3.5/site-packages/chainer/utils/type_check.py\u001b[0m in \u001b[0;36mexpect\u001b[0;34m(self)\u001b[0m\n\u001b[1;32m    435\u001b[0m                 \u001b[0;34m'{0} {1} {2}'\u001b[0m\u001b[0;34m.\u001b[0m\u001b[0mformat\u001b[0m\u001b[0;34m(\u001b[0m\u001b[0mself\u001b[0m\u001b[0;34m.\u001b[0m\u001b[0mlhs\u001b[0m\u001b[0;34m,\u001b[0m \u001b[0mself\u001b[0m\u001b[0;34m.\u001b[0m\u001b[0mexp\u001b[0m\u001b[0;34m,\u001b[0m \u001b[0mself\u001b[0m\u001b[0;34m.\u001b[0m\u001b[0mrhs\u001b[0m\u001b[0;34m)\u001b[0m\u001b[0;34m,\u001b[0m\u001b[0;34m\u001b[0m\u001b[0m\n\u001b[0;32m--> 436\u001b[0;31m                 '{0} {1} {2}'.format(left, self.inv, right))\n\u001b[0m\u001b[1;32m    437\u001b[0m \u001b[0;34m\u001b[0m\u001b[0m\n",
      "\u001b[0;31mInvalidType\u001b[0m: Expect: in_types[0].shape[0] == in_types[1].shape[0]\nActual: 10000 != 999",
      "\nDuring handling of the above exception, another exception occurred:\n",
      "\u001b[0;31mInvalidType\u001b[0m                               Traceback (most recent call last)",
      "\u001b[0;32m<ipython-input-82-0d426bbf5daf>\u001b[0m in \u001b[0;36m<module>\u001b[0;34m()\u001b[0m\n\u001b[1;32m      4\u001b[0m \u001b[0mECoG_filtered_prev\u001b[0m \u001b[0;34m=\u001b[0m \u001b[0;34m[\u001b[0m\u001b[0mVariable\u001b[0m\u001b[0;34m(\u001b[0m\u001b[0mnp\u001b[0m\u001b[0;34m.\u001b[0m\u001b[0mzeros\u001b[0m\u001b[0;34m(\u001b[0m\u001b[0;34m(\u001b[0m\u001b[0mtime_range\u001b[0m\u001b[0;34m,\u001b[0m \u001b[0;36m1\u001b[0m\u001b[0;34m)\u001b[0m\u001b[0;34m)\u001b[0m\u001b[0;34m.\u001b[0m\u001b[0mastype\u001b[0m\u001b[0;34m(\u001b[0m\u001b[0;34m'float32'\u001b[0m\u001b[0;34m)\u001b[0m\u001b[0;34m)\u001b[0m \u001b[0;32mfor\u001b[0m \u001b[0mj\u001b[0m \u001b[0;32min\u001b[0m \u001b[0mrange\u001b[0m\u001b[0;34m(\u001b[0m\u001b[0mECoG\u001b[0m\u001b[0;34m.\u001b[0m\u001b[0mshape\u001b[0m\u001b[0;34m[\u001b[0m\u001b[0;36m1\u001b[0m\u001b[0;34m]\u001b[0m\u001b[0;34m)\u001b[0m\u001b[0;34m]\u001b[0m \u001b[0;31m#前の出力をいれるところ\u001b[0m\u001b[0;34m\u001b[0m\u001b[0m\n\u001b[1;32m      5\u001b[0m \u001b[0;34m\u001b[0m\u001b[0m\n\u001b[0;32m----> 6\u001b[0;31m \u001b[0mx1\u001b[0m\u001b[0;34m,\u001b[0m \u001b[0mx2\u001b[0m\u001b[0;34m,\u001b[0m \u001b[0mEEG_filtered_prev\u001b[0m\u001b[0;34m,\u001b[0m \u001b[0mECoG_filtered_prev\u001b[0m \u001b[0;34m=\u001b[0m \u001b[0msaved_data\u001b[0m\u001b[0;34m[\u001b[0m\u001b[0mdata_type\u001b[0m\u001b[0;34m]\u001b[0m\u001b[0;34m[\u001b[0m\u001b[0;34m'NN'\u001b[0m\u001b[0;34m]\u001b[0m\u001b[0;34m(\u001b[0m\u001b[0mEEG_t\u001b[0m\u001b[0;34m,\u001b[0m \u001b[0mECoG_t\u001b[0m\u001b[0;34m,\u001b[0m \u001b[0mEEG_filtered_prev\u001b[0m\u001b[0;34m,\u001b[0m \u001b[0mECoG_filtered_prev\u001b[0m\u001b[0;34m,\u001b[0m \u001b[0mtrain\u001b[0m\u001b[0;34m=\u001b[0m\u001b[0;32mFalse\u001b[0m\u001b[0;34m)\u001b[0m\u001b[0;34m\u001b[0m\u001b[0m\n\u001b[0m\u001b[1;32m      7\u001b[0m \u001b[0;34m\u001b[0m\u001b[0m\n\u001b[1;32m      8\u001b[0m \u001b[0;34m\u001b[0m\u001b[0m\n",
      "\u001b[0;32m/Users/vv000844/Documents/research_neuralNetwork/EEG-ECoG/nn_class.py\u001b[0m in \u001b[0;36m__call__\u001b[0;34m(self, EEG_t, ECoG_t, EEG_filtered_prev, ECoG_filtered_prev, train)\u001b[0m\n\u001b[1;32m    101\u001b[0m                 \u001b[0mpre_y\u001b[0m\u001b[0;34m[\u001b[0m\u001b[0mt\u001b[0m\u001b[0;34m]\u001b[0m\u001b[0;34m[\u001b[0m\u001b[0mt\u001b[0m\u001b[0;34m:\u001b[0m\u001b[0;34m]\u001b[0m \u001b[0;34m=\u001b[0m \u001b[0mEEG_filtered_prev\u001b[0m\u001b[0;34m[\u001b[0m\u001b[0mch\u001b[0m\u001b[0;34m]\u001b[0m\u001b[0;34m.\u001b[0m\u001b[0mdata\u001b[0m\u001b[0;34m[\u001b[0m\u001b[0;34m:\u001b[0m\u001b[0mlen\u001b[0m\u001b[0;34m(\u001b[0m\u001b[0mpre_y\u001b[0m\u001b[0;34m[\u001b[0m\u001b[0mt\u001b[0m\u001b[0;34m]\u001b[0m\u001b[0;34m)\u001b[0m\u001b[0;34m-\u001b[0m\u001b[0mt\u001b[0m\u001b[0;34m]\u001b[0m\u001b[0;34m\u001b[0m\u001b[0m\n\u001b[1;32m    102\u001b[0m                 \u001b[0mpre_y\u001b[0m\u001b[0;34m[\u001b[0m\u001b[0mt\u001b[0m\u001b[0;34m]\u001b[0m \u001b[0;34m=\u001b[0m \u001b[0mVariable\u001b[0m\u001b[0;34m(\u001b[0m\u001b[0mpre_y\u001b[0m\u001b[0;34m[\u001b[0m\u001b[0mt\u001b[0m\u001b[0;34m]\u001b[0m\u001b[0;34m)\u001b[0m\u001b[0;34m\u001b[0m\u001b[0m\n\u001b[0;32m--> 103\u001b[0;31m             \u001b[0mx\u001b[0m \u001b[0;34m=\u001b[0m \u001b[0mF\u001b[0m\u001b[0;34m.\u001b[0m\u001b[0mconcat\u001b[0m\u001b[0;34m(\u001b[0m\u001b[0;34m(\u001b[0m\u001b[0mEEG_t\u001b[0m\u001b[0;34m[\u001b[0m\u001b[0;34m:\u001b[0m\u001b[0;34m,\u001b[0m \u001b[0mch\u001b[0m\u001b[0;34m,\u001b[0m \u001b[0;34m:\u001b[0m\u001b[0;34m]\u001b[0m\u001b[0;34m,\u001b[0m \u001b[0mpre_y\u001b[0m\u001b[0;34m[\u001b[0m\u001b[0;36m0\u001b[0m\u001b[0;34m]\u001b[0m\u001b[0;34m,\u001b[0m \u001b[0mpre_y\u001b[0m\u001b[0;34m[\u001b[0m\u001b[0;36m1\u001b[0m\u001b[0;34m]\u001b[0m\u001b[0;34m,\u001b[0m \u001b[0mpre_y\u001b[0m\u001b[0;34m[\u001b[0m\u001b[0;36m2\u001b[0m\u001b[0;34m]\u001b[0m\u001b[0;34m,\u001b[0m \u001b[0mpre_y\u001b[0m\u001b[0;34m[\u001b[0m\u001b[0;36m3\u001b[0m\u001b[0;34m]\u001b[0m\u001b[0;34m,\u001b[0m \u001b[0mpre_y\u001b[0m\u001b[0;34m[\u001b[0m\u001b[0;36m4\u001b[0m\u001b[0;34m]\u001b[0m\u001b[0;34m)\u001b[0m\u001b[0;34m)\u001b[0m\u001b[0;34m\u001b[0m\u001b[0m\n\u001b[0m\u001b[1;32m    104\u001b[0m             \u001b[0my\u001b[0m \u001b[0;34m=\u001b[0m \u001b[0mself\u001b[0m\u001b[0;34m.\u001b[0m\u001b[0m__dict__\u001b[0m\u001b[0;34m[\u001b[0m\u001b[0;34m'FIR'\u001b[0m\u001b[0;34m]\u001b[0m\u001b[0;34m(\u001b[0m\u001b[0mx\u001b[0m\u001b[0;34m)\u001b[0m\u001b[0;34m\u001b[0m\u001b[0m\n\u001b[1;32m    105\u001b[0m             \u001b[0mEEG_filtered\u001b[0m\u001b[0;34m.\u001b[0m\u001b[0mappend\u001b[0m\u001b[0;34m(\u001b[0m\u001b[0my\u001b[0m\u001b[0;34m)\u001b[0m\u001b[0;34m\u001b[0m\u001b[0m\n",
      "\u001b[0;32m/Users/vv000844/.pyenvi/versions/anaconda3-2.5.0/lib/python3.5/site-packages/chainer/functions/array/concat.py\u001b[0m in \u001b[0;36mconcat\u001b[0;34m(xs, axis)\u001b[0m\n\u001b[1;32m     54\u001b[0m \u001b[0;34m\u001b[0m\u001b[0m\n\u001b[1;32m     55\u001b[0m     \"\"\"\n\u001b[0;32m---> 56\u001b[0;31m     \u001b[0;32mreturn\u001b[0m \u001b[0mConcat\u001b[0m\u001b[0;34m(\u001b[0m\u001b[0maxis\u001b[0m\u001b[0;34m=\u001b[0m\u001b[0maxis\u001b[0m\u001b[0;34m)\u001b[0m\u001b[0;34m(\u001b[0m\u001b[0;34m*\u001b[0m\u001b[0mxs\u001b[0m\u001b[0;34m)\u001b[0m\u001b[0;34m\u001b[0m\u001b[0m\n\u001b[0m",
      "\u001b[0;32m/Users/vv000844/.pyenvi/versions/anaconda3-2.5.0/lib/python3.5/site-packages/chainer/function.py\u001b[0m in \u001b[0;36m__call__\u001b[0;34m(self, *inputs)\u001b[0m\n\u001b[1;32m    113\u001b[0m \u001b[0;34m\u001b[0m\u001b[0m\n\u001b[1;32m    114\u001b[0m         \u001b[0;32mif\u001b[0m \u001b[0mself\u001b[0m\u001b[0;34m.\u001b[0m\u001b[0mtype_check_enable\u001b[0m\u001b[0;34m:\u001b[0m\u001b[0;34m\u001b[0m\u001b[0m\n\u001b[0;32m--> 115\u001b[0;31m             \u001b[0mself\u001b[0m\u001b[0;34m.\u001b[0m\u001b[0m_check_data_type_forward\u001b[0m\u001b[0;34m(\u001b[0m\u001b[0min_data\u001b[0m\u001b[0;34m)\u001b[0m\u001b[0;34m\u001b[0m\u001b[0m\n\u001b[0m\u001b[1;32m    116\u001b[0m \u001b[0;34m\u001b[0m\u001b[0m\n\u001b[1;32m    117\u001b[0m         \u001b[0mhooks\u001b[0m \u001b[0;34m=\u001b[0m \u001b[0mcollections\u001b[0m\u001b[0;34m.\u001b[0m\u001b[0mOrderedDict\u001b[0m\u001b[0;34m(\u001b[0m\u001b[0mchainer\u001b[0m\u001b[0;34m.\u001b[0m\u001b[0mget_function_hooks\u001b[0m\u001b[0;34m(\u001b[0m\u001b[0;34m)\u001b[0m\u001b[0;34m)\u001b[0m\u001b[0;34m\u001b[0m\u001b[0m\n",
      "\u001b[0;32m/Users/vv000844/.pyenvi/versions/anaconda3-2.5.0/lib/python3.5/site-packages/chainer/function.py\u001b[0m in \u001b[0;36m_check_data_type_forward\u001b[0;34m(self, in_data)\u001b[0m\n\u001b[1;32m    188\u001b[0m \u001b[0;34m\u001b[0m\u001b[0m\n\u001b[1;32m    189\u001b[0m {1}\"\"\".format(self.label, str(e))\n\u001b[0;32m--> 190\u001b[0;31m             \u001b[0;32mraise\u001b[0m \u001b[0mtype_check\u001b[0m\u001b[0;34m.\u001b[0m\u001b[0mInvalidType\u001b[0m\u001b[0;34m(\u001b[0m\u001b[0me\u001b[0m\u001b[0;34m.\u001b[0m\u001b[0mexpect\u001b[0m\u001b[0;34m,\u001b[0m \u001b[0me\u001b[0m\u001b[0;34m.\u001b[0m\u001b[0mactual\u001b[0m\u001b[0;34m,\u001b[0m \u001b[0mmsg\u001b[0m\u001b[0;34m=\u001b[0m\u001b[0mmsg\u001b[0m\u001b[0;34m)\u001b[0m\u001b[0;34m\u001b[0m\u001b[0m\n\u001b[0m\u001b[1;32m    191\u001b[0m \u001b[0;34m\u001b[0m\u001b[0m\n\u001b[1;32m    192\u001b[0m     \u001b[0;32mdef\u001b[0m \u001b[0mcheck_type_forward\u001b[0m\u001b[0;34m(\u001b[0m\u001b[0mself\u001b[0m\u001b[0;34m,\u001b[0m \u001b[0min_types\u001b[0m\u001b[0;34m)\u001b[0m\u001b[0;34m:\u001b[0m\u001b[0;34m\u001b[0m\u001b[0m\n",
      "\u001b[0;31mInvalidType\u001b[0m: \nInvalid operation is performed in: Concat (Forward)\n\nExpect: in_types[0].shape[0] == in_types[1].shape[0]\nActual: 10000 != 999"
     ]
    }
   ],
   "source": [
    "data_type ='1000'\n",
    "\n",
    "EEG_filtered_prev = [Variable(np.zeros((time_range, 1)).astype('float32')) for j in range(EEG.shape[1])] #前の出力をいれるところ　(RNN)\n",
    "ECoG_filtered_prev = [Variable(np.zeros((time_range, 1)).astype('float32')) for j in range(ECoG.shape[1])] #前の出力をいれるところ\n",
    "\n",
    "x1, x2, EEG_filtered_prev, ECoG_filtered_prev = saved_data[data_type]['NN'](EEG_t, ECoG_t, EEG_filtered_prev, ECoG_filtered_prev, train=False)\n",
    "\n",
    "\n",
    "for ch in range(16):\n",
    "    print(np.corrcoef(x1.data[:,ch], x2.data[:,ch])[0, 1])"
   ]
  },
  {
   "cell_type": "code",
   "execution_count": 63,
   "metadata": {
    "collapsed": false
   },
   "outputs": [
    {
     "name": "stdout",
     "output_type": "stream",
     "text": [
      "-0.0416869389259\n",
      "0.130948456042\n",
      "0.0700970742688\n",
      "0.311045227319\n",
      "0.0378985544823\n",
      "0.0535104646283\n",
      "-0.0233822023459\n",
      "0.0578037100954\n",
      "-0.0258820790615\n",
      "nan\n",
      "0.0715365301592\n",
      "0.0878812351078\n",
      "0.41289599889\n",
      "-0.000382946270612\n",
      "0.357790984888\n",
      "0.105311732183\n"
     ]
    },
    {
     "name": "stderr",
     "output_type": "stream",
     "text": [
      "/Users/vv000844/.pyenvi/versions/anaconda3-2.5.0/lib/python3.5/site-packages/chainer/functions/activation/lstm.py:15: RuntimeWarning: overflow encountered in exp\n",
      "  return 1 / (1 + numpy.exp(-x))\n",
      "/Users/vv000844/.pyenvi/versions/anaconda3-2.5.0/lib/python3.5/site-packages/numpy/lib/function_base.py:2558: RuntimeWarning: invalid value encountered in true_divide\n",
      "  c /= stddev[:, None]\n",
      "/Users/vv000844/.pyenvi/versions/anaconda3-2.5.0/lib/python3.5/site-packages/numpy/lib/function_base.py:2559: RuntimeWarning: invalid value encountered in true_divide\n",
      "  c /= stddev[None, :]\n"
     ]
    }
   ],
   "source": [
    "data_type ='2000'\n",
    "\n",
    "EEG_filtered_prev = [Variable(np.zeros((time_range, 1)).astype('float32')) for j in range(EEG.shape[1])] #前の出力をいれるところ　(RNN)\n",
    "ECoG_filtered_prev = [Variable(np.zeros((time_range, 1)).astype('float32')) for j in range(ECoG.shape[1])] #前の出力をいれるところ\n",
    "\n",
    "x1, x2, EEG_filtered_prev, ECoG_filtered_prev = saved_data[data_type]['NN'](EEG_t[:,:,0], ECoG_t[:,:,0], EEG_filtered_prev, ECoG_filtered_prev, train=False)\n",
    "\n",
    "\n",
    "for ch in range(16):\n",
    "    print(np.corrcoef(x1.data[:,ch], x2.data[:,ch])[0, 1])"
   ]
  },
  {
   "cell_type": "markdown",
   "metadata": {
    "collapsed": true
   },
   "source": [
    "1. 各EEG の相関係数　一番マシなやつはどれか 1 秒ごとの相関係数を計測すべき\n",
    "あとはデータセットごとの成績（一番マシなモデルで）\n",
    "一番マシなモデルでのECoG予測\n",
    "    有意に成績が高いところの空間周波数分布を可視化\n",
    "2. EEG の方にも空間フィルターをはさみ、CCA っぽくしたやつで EV←いるか？"
   ]
  },
  {
   "cell_type": "code",
   "execution_count": 47,
   "metadata": {
    "collapsed": true
   },
   "outputs": [],
   "source": [
    "start = 12000\n",
    "\n",
    "train_time = [start, time_range+start]\n",
    "hamming = signal.hamming(train_time[1]-train_time[0])\n",
    "#training ぶんだけにする\n",
    "EEG_t = np.zeros((train_time[1]-train_time[0], EEG.shape[1], order))\n",
    "ECoG_t = np.zeros((train_time[1]-train_time[0], ECoG.shape[1], order))\n",
    "EEG_tmp = EEG[train_time[0]:train_time[1], :] *np.array([hamming]*EEG.shape[1]).T\n",
    "ECoG_tmp = ECoG[train_time[0]:train_time[1], :] *np.array([hamming]*ECoG.shape[1]).T\n",
    "for t in range(order):\n",
    "    for ch in range(EEG.shape[1]):\n",
    "        EEG_t[t:,ch,t] = EEG_tmp[:time_range-t, ch] \n",
    "    for ch in range(ECoG.shape[1]):\n",
    "        ECoG_t[t:,ch,t] = ECoG_tmp[:time_range-t, ch] \n",
    "EEG_t = Variable((EEG_t).astype('float32'))\n",
    "ECoG_t = Variable((ECoG_t).astype('float32'))"
   ]
  },
  {
   "cell_type": "code",
   "execution_count": 48,
   "metadata": {
    "collapsed": false
   },
   "outputs": [
    {
     "name": "stdout",
     "output_type": "stream",
     "text": [
      "0.0207187471635\n",
      "0.0458717261303\n",
      "-0.0108192695865\n",
      "0.0661329574022\n",
      "-0.034606745611\n",
      "0.0227852900663\n",
      "-0.0326817656876\n",
      "0.0546924543054\n",
      "-0.0116927409141\n",
      "0.0318454567344\n",
      "0.0721525861468\n",
      "0.0412125716064\n",
      "0.00348209575144\n",
      "0.0135745480717\n",
      "0.0102102233428\n",
      "0.018274019195\n"
     ]
    }
   ],
   "source": [
    "data_type ='0000'\n",
    "\n",
    "EEG_filtered_prev = [Variable(np.zeros((time_range, 1)).astype('float32')) for j in range(EEG.shape[1])] #前の出力をいれるところ　(RNN)\n",
    "ECoG_filtered_prev = [Variable(np.zeros((time_range, 1)).astype('float32')) for j in range(ECoG.shape[1])] #前の出力をいれるところ\n",
    "\n",
    "x1, x2, EEG_filtered_prev, ECoG_filtered_prev = saved_data[data_type][0]['NN'](EEG_t, ECoG_t, EEG_filtered_prev, ECoG_filtered_prev, train=False)\n",
    "\n",
    "\n",
    "for ch in range(16):\n",
    "    print(np.corrcoef(x1.data[:,ch], x2.data[:,ch])[0, 1])\n"
   ]
  },
  {
   "cell_type": "code",
   "execution_count": 49,
   "metadata": {
    "collapsed": false
   },
   "outputs": [
    {
     "name": "stdout",
     "output_type": "stream",
     "text": [
      "-0.0449766211516\n",
      "-0.0232906095272\n",
      "-0.0772777301383\n",
      "-0.0318539540555\n",
      "-0.0241463867009\n",
      "-0.0160971199035\n",
      "-0.0437096095499\n",
      "-0.0160508815258\n",
      "0.0394506079178\n",
      "-0.0147266687392\n",
      "-0.121383296745\n",
      "-0.0159970997966\n",
      "-0.0150179434717\n",
      "-0.0382470762072\n",
      "-0.0824070276322\n",
      "-0.0562502967309\n"
     ]
    }
   ],
   "source": [
    "data_type ='1000'\n",
    "\n",
    "EEG_filtered_prev = [Variable(np.zeros((time_range, 1)).astype('float32')) for j in range(EEG.shape[1])] #前の出力をいれるところ　(RNN)\n",
    "ECoG_filtered_prev = [Variable(np.zeros((time_range, 1)).astype('float32')) for j in range(ECoG.shape[1])] #前の出力をいれるところ\n",
    "\n",
    "x1, x2, EEG_filtered_prev, ECoG_filtered_prev = saved_data[data_type]['NN'](EEG_t, ECoG_t, EEG_filtered_prev, ECoG_filtered_prev, train=False)\n",
    "\n",
    "\n",
    "for ch in range(16):\n",
    "    print(np.corrcoef(x1.data[:,ch], x2.data[:,ch])[0, 1])"
   ]
  },
  {
   "cell_type": "code",
   "execution_count": 50,
   "metadata": {
    "collapsed": false
   },
   "outputs": [
    {
     "name": "stdout",
     "output_type": "stream",
     "text": [
      "-0.119102555124\n",
      "-0.278238648829\n",
      "-0.116820860403\n",
      "-0.080254958995\n",
      "-0.29244663412\n",
      "-0.0435385437061\n",
      "0.047716906933\n",
      "0.112464034367\n",
      "-0.106278167708\n",
      "-0.0720733619743\n",
      "0.316266828744\n",
      "-0.0312669475964\n",
      "0.152641354079\n",
      "-0.0879843893547\n",
      "-0.336172864583\n",
      "-0.0311284166425\n"
     ]
    },
    {
     "name": "stderr",
     "output_type": "stream",
     "text": [
      "/Users/vv000844/.pyenvi/versions/anaconda3-2.5.0/lib/python3.5/site-packages/chainer/functions/activation/lstm.py:15: RuntimeWarning: overflow encountered in exp\n",
      "  return 1 / (1 + numpy.exp(-x))\n"
     ]
    }
   ],
   "source": [
    "data_type ='2000'\n",
    "\n",
    "EEG_filtered_prev = [Variable(np.zeros((time_range, 1)).astype('float32')) for j in range(EEG.shape[1])] #前の出力をいれるところ　(RNN)\n",
    "ECoG_filtered_prev = [Variable(np.zeros((time_range, 1)).astype('float32')) for j in range(ECoG.shape[1])] #前の出力をいれるところ\n",
    "\n",
    "x1, x2, EEG_filtered_prev, ECoG_filtered_prev = saved_data[data_type]['NN'](EEG_t[:,:,0], ECoG_t[:,:,0], EEG_filtered_prev, ECoG_filtered_prev, train=False)\n",
    "\n",
    "\n",
    "for ch in range(16):\n",
    "    print(np.corrcoef(x1.data[:,ch], x2.data[:,ch])[0, 1])"
   ]
  },
  {
   "cell_type": "code",
   "execution_count": null,
   "metadata": {
    "collapsed": true
   },
   "outputs": [],
   "source": []
  }
 ],
 "metadata": {
  "anaconda-cloud": {},
  "kernelspec": {
   "display_name": "Python 3",
   "language": "python",
   "name": "python3"
  },
  "language_info": {
   "codemirror_mode": {
    "name": "ipython",
    "version": 3
   },
   "file_extension": ".py",
   "mimetype": "text/x-python",
   "name": "python",
   "nbconvert_exporter": "python",
   "pygments_lexer": "ipython3",
   "version": "3.5.2"
  }
 },
 "nbformat": 4,
 "nbformat_minor": 0
}
