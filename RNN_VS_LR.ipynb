{
 "cells": [
  {
   "cell_type": "code",
   "execution_count": 213,
   "metadata": {
    "collapsed": false
   },
   "outputs": [],
   "source": [
    "# -*- coding: utf_8 -*-  \n",
    "%matplotlib inline\n",
    "\n",
    "import matplotlib.pyplot as plt\n",
    "import seaborn\n",
    "\n",
    "import copy\n",
    "import json\n",
    "import pandas as pd\n",
    "import numpy as np\n",
    "import datetime\n",
    "import math\n",
    "import time\n",
    "\n",
    "import sklearn.linear_model\n",
    "\n",
    "\n",
    "from keras.models import Model, Sequential\n",
    "from keras.layers import Dense, Activation, recurrent, Input, Embedding\n",
    "from keras.preprocessing.sequence import pad_sequences\n",
    "import keras.layers.merge\n",
    "\n",
    "from scipy import signal\n",
    "from scipy import stats\n",
    "\n",
    "\n",
    "import pickle\n",
    "import sys\n",
    "import random\n",
    "import h5py\n",
    "\n",
    "        \n",
    "def makeRNN_dual(input_cs, output_cs,dropout=0.5):\n",
    "    #rnn1 = recurrent.SimpleRNN(units=output_cs, activation='linear', input_shape=(None, input_cs),return_sequences=True, dropout=0.5, recurrent_dropout=0.5)\n",
    "    rnn_f = recurrent.SimpleRNN(units=output_cs, activation='linear', input_shape=(None, input_cs),return_sequences=False,dropout=dropout, recurrent_regularizer='l1', kernel_regularizer='l2') #forward\n",
    "    rnn_b = recurrent.SimpleRNN(units=output_cs, activation='linear', input_shape=(None, input_cs),return_sequences=False,dropout=dropout, recurrent_regularizer='l1', kernel_regularizer='l2') #backward\n",
    "    input_f = Input(shape=(None,input_cs), dtype='float32', name='input_f')\n",
    "    input_b = Input(shape=(None,input_cs), dtype='float32', name='input_b')\n",
    "    rnn_f_o = rnn_f(input_f)\n",
    "    rnn_b_o = rnn_b(input_b)\n",
    "    out = keras.layers.merge([rnn_f_o, rnn_b_o], mode='sum')\n",
    "    model = Model(input=[input_f, input_b], output=out)\n",
    "    #model = Model(input=[input_f], output=rnn_f_o)\n",
    "    model.compile(optimizer='adadelta',\n",
    "                  loss='mse',\n",
    "                  metrics=['mse','cosine_proximity'])\n",
    "    return model"
   ]
  },
  {
   "cell_type": "code",
   "execution_count": 234,
   "metadata": {
    "collapsed": true
   },
   "outputs": [],
   "source": [
    "test=h5py.File('Ma/DeepANES.mat')\n",
    "\n",
    "ECoG = np.array(test['ECoG'])\n",
    "EEG = np.array(test['EEG'])\n",
    "EEG = np.delete(EEG, 14, axis=1)\n",
    "EEG = EEG.astype('float32')\n",
    "ECoG = ECoG.astype('float32')\n",
    "\n",
    "ff = 2/1000\n",
    "b, a = signal.butter(4, [0.1*ff, 200*ff], btype='bandpass')\n",
    "b_n, a_n, = signal.iirnotch(50*ff, 10)\n",
    "\n",
    "samples = 9\n",
    "# timesteps = 1024 だめだった\n",
    "# timesteps = 8192 まぁまぁできた\n",
    "timesteps = 1024*5\n",
    "start= timesteps*1\n",
    "\n",
    "def make_timeStepData(data, samples,timesteps=4096, start=0):\n",
    "    out1 = np.zeros((timesteps, samples, data.shape[1]))\n",
    "    out2 = np.zeros((timesteps, samples, data.shape[1]))\n",
    "    for t in range(samples):\n",
    "        t0 = t+start\n",
    "        t1 = t0+timesteps\n",
    "        for ch in range(data.shape[1]):\n",
    "            out1[:,t,ch] = data[t0:t1,ch]\n",
    "            out2[:,t,ch] = data[t1:t0:-1, ch]\n",
    "    return out1, out2\n",
    "\n",
    "def do_filter(b,a,data):\n",
    "    out = np.zeros(data.shape)\n",
    "    for ch in range(data.shape[1]):\n",
    "        out[:,ch] = signal.filtfilt(b, a, data[:,ch])\n",
    "    return out\n"
   ]
  },
  {
   "cell_type": "code",
   "execution_count": 235,
   "metadata": {
    "collapsed": true
   },
   "outputs": [],
   "source": [
    "EEG_f = do_filter(b_n, a_n, do_filter(b, a, EEG))\n",
    "ECoG_f = do_filter(b_n, a_n, do_filter(b, a, ECoG))\n",
    "#EEG_f = do_filter(b_n, a_n, EEG)\n",
    "#ECoG_f = do_filter(b_n, a_n, ECoG)\n",
    "\n",
    "\n",
    "ECoG1, ECoG2 = make_timeStepData(ECoG_f, samples, timesteps, start)\n",
    "EEG1, EEG2 = make_timeStepData(EEG_f, samples, timesteps, start)"
   ]
  },
  {
   "cell_type": "code",
   "execution_count": 236,
   "metadata": {
    "collapsed": false
   },
   "outputs": [
    {
     "name": "stderr",
     "output_type": "stream",
     "text": [
      "/usr/local/pyenv/versions/anaconda3-2.4.0/lib/python3.5/site-packages/ipykernel/__main__.py:41: UserWarning: The `merge` function is deprecated and will be removed after 08/2017. Use instead layers from `keras.layers.merge`, e.g. `add`, `concatenate`, etc.\n",
      "/usr/local/pyenv/versions/anaconda3-2.4.0/lib/python3.5/site-packages/keras/legacy/layers.py:456: UserWarning: The `Merge` layer is deprecated and will be removed after 08/2017. Use instead layers from `keras.layers.merge`, e.g. `add`, `concatenate`, etc.\n",
      "  name=name)\n",
      "/usr/local/pyenv/versions/anaconda3-2.4.0/lib/python3.5/site-packages/ipykernel/__main__.py:42: UserWarning: Update your `Model` call to the Keras 2 API: `Model(inputs=[<tf.Tenso..., outputs=Tensor(\"me...)`\n"
     ]
    }
   ],
   "source": [
    "model = makeRNN_dual(16, 256,dropout=0.125)"
   ]
  },
  {
   "cell_type": "code",
   "execution_count": 237,
   "metadata": {
    "collapsed": false,
    "scrolled": true
   },
   "outputs": [],
   "source": [
    "ECoG_p = ECoG_f[start:start+timesteps, :]\n",
    "loss = model.fit([EEG1,EEG2], ECoG_p, epochs=2000, verbose=0)"
   ]
  },
  {
   "cell_type": "code",
   "execution_count": 238,
   "metadata": {
    "collapsed": false
   },
   "outputs": [
    {
     "data": {
      "text/plain": [
       "[<matplotlib.lines.Line2D at 0x7f32bdf1acf8>]"
      ]
     },
     "execution_count": 238,
     "metadata": {},
     "output_type": "execute_result"
    },
    {
     "data": {
      "image/png": "[encoded data removed]",
      "text/plain": [
       "<matplotlib.figure.Figure at 0x7f32be4d1a58>"
      ]
     },
     "metadata": {},
     "output_type": "display_data"
    }
   ],
   "source": [
    "plt.plot(loss.history['mean_squared_error'][100:])"
   ]
  },
  {
   "cell_type": "code",
   "execution_count": 239,
   "metadata": {
    "collapsed": false,
    "scrolled": false
   },
   "outputs": [
    {
     "name": "stdout",
     "output_type": "stream",
     "text": [
      "0.766851896135\n"
     ]
    }
   ],
   "source": [
    "ECoG_pre = model.predict([EEG1,EEG2])\n",
    "out = []\n",
    "for ch in range(256):\n",
    "    out.append(np.corrcoef(ECoG_p[:, ch], ECoG_pre[:, ch])[0, 1])\n",
    "out = np.array(out)\n",
    "print(out.mean())"
   ]
  },
  {
   "cell_type": "code",
   "execution_count": 240,
   "metadata": {
    "collapsed": false
   },
   "outputs": [
    {
     "name": "stdout",
     "output_type": "stream",
     "text": [
      "0.708002031457\n"
     ]
    }
   ],
   "source": [
    "# LR\n",
    "EEG_tr = EEG_f[start:start+timesteps, :]\n",
    "out_lr = []\n",
    "model_lrs = []\n",
    "for ch in range(256):\n",
    "    model_lr = sklearn.linear_model.LinearRegression()\n",
    "    model_lr.fit(EEG_tr, ECoG_p[:, ch])\n",
    "    model_lrs.append(model_lr)\n",
    "    pp = model_lr.predict(EEG_tr)\n",
    "    out_lr.append(np.corrcoef(pp, ECoG_p[:, ch])[0, 1])\n",
    "out_lr = np.array(out_lr)\n",
    "print(out_lr.mean())"
   ]
  },
  {
   "cell_type": "code",
   "execution_count": 241,
   "metadata": {
    "collapsed": false
   },
   "outputs": [
    {
     "data": {
      "text/plain": [
       "[<matplotlib.lines.Line2D at 0x7f32bde895c0>]"
      ]
     },
     "execution_count": 241,
     "metadata": {},
     "output_type": "execute_result"
    },
    {
     "data": {
      "image/png": "[encoded data removed]",
      "text/plain": [
       "<matplotlib.figure.Figure at 0x7f32bdc90908>"
      ]
     },
     "metadata": {},
     "output_type": "display_data"
    }
   ],
   "source": [
    "plt.plot(out_lr)"
   ]
  },
  {
   "cell_type": "code",
   "execution_count": 242,
   "metadata": {
    "collapsed": false
   },
   "outputs": [
    {
     "name": "stdout",
     "output_type": "stream",
     "text": [
      "(58, 256)\n",
      "(58, 256)\n"
     ]
    }
   ],
   "source": [
    "outout = []\n",
    "outout_p = []\n",
    "outout_lr = []\n",
    "outout_lr_p = []\n",
    "for n in range(int(ECoG.shape[0]/timesteps)):\n",
    "    start= timesteps*n\n",
    "    ECoG1, ECoG2 = make_timeStepData(ECoG_f, samples, timesteps, start)\n",
    "    EEG1, EEG2 = make_timeStepData(EEG_f, samples, timesteps, start)\n",
    "\n",
    "    ECoG_pre = model.predict([EEG1,EEG2])\n",
    "    #ECoG_pre = model.predict([EEG1, EEG2])\n",
    "    EEG_tr = EEG_f[start:start+timesteps, :]\n",
    "    out_lr = []\n",
    "    out_lr_p = []\n",
    "    out = []\n",
    "    out_p = []\n",
    "    for ch in range(256):\n",
    "        c, p = stats.pearsonr(ECoG_p[:, ch], ECoG_pre[:, ch])\n",
    "        p = p*(int(c>0)-0.5)*2\n",
    "        out.append(c)\n",
    "        out_p.append(p)\n",
    "        pp = model_lrs[ch].predict(EEG_tr)\n",
    "        c, p = stats.pearsonr(pp, ECoG_p[:, ch])\n",
    "        out_lr.append(c)\n",
    "        out_lr_p.append(p)\n",
    "    outout.append(out)\n",
    "    outout_p.append(out_p)\n",
    "    outout_lr.append(out_lr)\n",
    "    outout_lr_p.append(out_lr_p)\n",
    "RNN_out = np.array(outout)\n",
    "RNN_out_p = np.array(outout_p)\n",
    "LR_out = np.array(outout_lr)\n",
    "LR_out_p = np.array(outout_lr_p)\n",
    "\n",
    "print(RNN_out.shape)\n",
    "print(LR_out.shape)"
   ]
  },
  {
   "cell_type": "code",
   "execution_count": 243,
   "metadata": {
    "collapsed": false
   },
   "outputs": [
    {
     "data": {
      "text/plain": [
       "0.55078125"
      ]
     },
     "execution_count": 243,
     "metadata": {},
     "output_type": "execute_result"
    }
   ],
   "source": [
    "np.sum((RNN_out[:,:]-LR_out[:,:]).mean(axis=0)>0)/256"
   ]
  },
  {
   "cell_type": "code",
   "execution_count": 244,
   "metadata": {
    "collapsed": false
   },
   "outputs": [
    {
     "data": {
      "text/plain": [
       "[<matplotlib.lines.Line2D at 0x7f32bde52278>]"
      ]
     },
     "execution_count": 244,
     "metadata": {},
     "output_type": "execute_result"
    },
    {
     "data": {
      "image/png": "[encoded data removed]",
      "text/plain": [
       "<matplotlib.figure.Figure at 0x7f32beff2128>"
      ]
     },
     "metadata": {},
     "output_type": "display_data"
    }
   ],
   "source": [
    "plt.plot(RNN_out[2:,:].mean(axis=0))"
   ]
  },
  {
   "cell_type": "code",
   "execution_count": 245,
   "metadata": {
    "collapsed": false
   },
   "outputs": [
    {
     "data": {
      "text/plain": [
       "226.42857142857142"
      ]
     },
     "execution_count": 245,
     "metadata": {},
     "output_type": "execute_result"
    }
   ],
   "source": [
    "np.sum(RNN_out_p[2:,:]<0.01/256, axis=1).mean()"
   ]
  },
  {
   "cell_type": "code",
   "execution_count": 246,
   "metadata": {
    "collapsed": false
   },
   "outputs": [
    {
     "data": {
      "text/plain": [
       "194.30357142857142"
      ]
     },
     "execution_count": 246,
     "metadata": {},
     "output_type": "execute_result"
    }
   ],
   "source": [
    "np.sum(LR_out_p[2:,:]<0.01/256, axis=1).mean()"
   ]
  },
  {
   "cell_type": "code",
   "execution_count": 247,
   "metadata": {
    "collapsed": true
   },
   "outputs": [],
   "source": [
    "def compare_out(out1, out2):\n",
    "    out = []\n",
    "    if out1.shape != out2.shape:\n",
    "        print('入力が同じサイズでない')\n",
    "        return\n",
    "    for ch in range(out1.shape[1]):\n",
    "        win = np.sum(out1[:,ch]>out2[:,ch])\n",
    "        p = stats.binom_test(win, n=out1.shape[0], p=0.5, alternative='greater')\n",
    "        out.append([win, p])\n",
    "    return np.array(out)"
   ]
  },
  {
   "cell_type": "code",
   "execution_count": 248,
   "metadata": {
    "collapsed": false
   },
   "outputs": [],
   "source": [
    "out_biTest = compare_out(RNN_out, LR_out)"
   ]
  },
  {
   "cell_type": "code",
   "execution_count": 253,
   "metadata": {
    "collapsed": false
   },
   "outputs": [
    {
     "data": {
      "text/plain": [
       "37"
      ]
     },
     "execution_count": 253,
     "metadata": {},
     "output_type": "execute_result"
    }
   ],
   "source": [
    "np.sum(out_biTest[:,1]<0.05)"
   ]
  },
  {
   "cell_type": "code",
   "execution_count": 254,
   "metadata": {
    "collapsed": false
   },
   "outputs": [
    {
     "data": {
      "text/plain": [
       "12.8"
      ]
     },
     "execution_count": 254,
     "metadata": {},
     "output_type": "execute_result"
    }
   ],
   "source": [
    "256*0.05"
   ]
  },
  {
   "cell_type": "code",
   "execution_count": 251,
   "metadata": {
    "collapsed": false
   },
   "outputs": [
    {
     "data": {
      "text/plain": [
       "58"
      ]
     },
     "execution_count": 251,
     "metadata": {},
     "output_type": "execute_result"
    }
   ],
   "source": [
    "len(RNN_out)"
   ]
  },
  {
   "cell_type": "code",
   "execution_count": 252,
   "metadata": {
    "collapsed": false
   },
   "outputs": [
    {
     "data": {
      "text/plain": [
       "(5120,)"
      ]
     },
     "execution_count": 252,
     "metadata": {},
     "output_type": "execute_result"
    }
   ],
   "source": [
    "pp.shape"
   ]
  },
  {
   "cell_type": "code",
   "execution_count": 255,
   "metadata": {
    "collapsed": true
   },
   "outputs": [],
   "source": [
    "# RNNとLRの学習後ECoGの周波数帯域を比較（有意差あったもの）\n",
    "# ECoG チャンネルの描画"
   ]
  },
  {
   "cell_type": "code",
   "execution_count": 301,
   "metadata": {
    "collapsed": false
   },
   "outputs": [
    {
     "data": {
      "text/plain": [
       "52"
      ]
     },
     "execution_count": 301,
     "metadata": {},
     "output_type": "execute_result"
    }
   ],
   "source": [
    "len(np.where(out_biTest[:,1]<0.05*2)[0])"
   ]
  },
  {
   "cell_type": "code",
   "execution_count": 269,
   "metadata": {
    "collapsed": false
   },
   "outputs": [
    {
     "data": {
      "text/plain": [
       "array([ -86.34340716,  -50.40962038,    6.17635471, ..., -208.49570696,\n",
       "       -190.32695054, -193.96661534])"
      ]
     },
     "execution_count": 269,
     "metadata": {},
     "output_type": "execute_result"
    }
   ],
   "source": [
    "pp"
   ]
  },
  {
   "cell_type": "code",
   "execution_count": 290,
   "metadata": {
    "collapsed": false
   },
   "outputs": [
    {
     "data": {
      "text/plain": [
       "(12, 37, 58)"
      ]
     },
     "execution_count": 290,
     "metadata": {},
     "output_type": "execute_result"
    }
   ],
   "source": [
    "Pxx_den_RNN.shape"
   ]
  },
  {
   "cell_type": "code",
   "execution_count": 294,
   "metadata": {
    "collapsed": false
   },
   "outputs": [
    {
     "data": {
      "text/plain": [
       "array([  9.40910110e+01,   6.26196777e+02,   2.39625702e+02,\n",
       "         7.25581207e+01,   3.02067051e+01,   3.21350021e+01,\n",
       "         2.87323589e+01,   2.61232662e+01,   2.21967354e+01,\n",
       "         1.97701092e+01,   1.85534725e+01,   1.13397579e+01,\n",
       "         4.79304600e+00,   1.91716850e+00,   3.22037768e+00,\n",
       "         3.96012807e+00,   2.76691771e+00,   2.24265337e+00,\n",
       "         1.50915587e+00,   1.34011126e+00,   1.26505804e+00,\n",
       "         1.25006485e+00,   1.52881086e+00,   2.42594433e+00,\n",
       "         1.77617180e+00,   2.37444973e+01,   3.27628441e+01,\n",
       "         4.30530453e+00,   2.00631928e+00,   1.91301084e+00,\n",
       "         1.85134518e+00,   3.01586747e+00,   2.82533240e+00,\n",
       "         2.13700271e+00,   2.67532754e+00,   2.86970687e+00,\n",
       "         2.75395441e+00,   4.35627365e+00,   1.55284796e+01,\n",
       "         1.25224209e+01,   2.19465899e+00,   1.87924826e+00,\n",
       "         1.29149497e+00,   1.62549841e+00,   1.39462519e+00,\n",
       "         7.72909224e-01,   6.26308024e-01,   9.27762866e-01,\n",
       "         1.11749125e+00,   1.13616920e+00,   8.14155936e-01,\n",
       "         8.46852899e-01,   7.86658645e-01,   4.70588297e-01,\n",
       "         4.20122385e-01,   3.70269299e-01,   3.00645769e-01,\n",
       "         2.70430624e-01,   2.19194248e-01,   1.86894104e-01,\n",
       "         1.68044254e-01,   1.04840487e-01,   6.50099963e-02,\n",
       "         4.52933237e-02,   3.53579931e-02,   2.19472256e-02,\n",
       "         1.35087324e-02,   1.14366030e-02,   8.30011629e-03,\n",
       "         4.78953822e-03,   4.07599052e-03,   2.28306698e-03,\n",
       "         1.15483790e-03,   9.24050517e-04,   7.50085223e-04,\n",
       "         3.80717916e-04,   1.89579179e-04,   1.47667452e-04,\n",
       "         1.08913257e-04,   5.90622694e-05,   2.82273722e-05,\n",
       "         1.70006988e-05,   1.38512742e-05,   7.47856348e-06,\n",
       "         5.74173646e-06,   3.56243731e-06,   2.26980205e-06,\n",
       "         1.18654509e-06,   8.54297411e-07,   1.95108851e-06,\n",
       "         2.28771660e-06,   2.87639466e-07,   1.16828211e-07,\n",
       "         8.94315590e-08,   5.34649658e-08,   3.17257935e-08,\n",
       "         1.81024316e-08,   1.15991856e-08,   8.59714344e-09,\n",
       "         4.36323244e-09,   2.10288098e-09,   1.47026269e-09,\n",
       "         7.41103623e-10,   6.19294449e-10,   3.52159774e-10,\n",
       "         2.66958844e-10,   2.78653101e-10,   1.68568645e-10,\n",
       "         1.96961711e-10,   1.30753727e-10,   1.79509033e-10,\n",
       "         1.27387198e-10,   1.43605128e-10,   1.36896064e-10,\n",
       "         1.12871566e-10,   1.36078329e-10,   1.09629812e-10,\n",
       "         8.47446696e-11,   1.03891666e-10,   1.19304608e-10,\n",
       "         8.58526236e-11,   8.94032279e-11,   7.70828262e-11,\n",
       "         9.76029743e-11,   1.00685668e-10,   1.00924852e-10,\n",
       "         9.74745215e-11,   8.78278006e-11,   4.72591896e-11], dtype=float32)"
      ]
     },
     "execution_count": 294,
     "metadata": {},
     "output_type": "execute_result"
    }
   ],
   "source": [
    "Pxx_den"
   ]
  },
  {
   "cell_type": "code",
   "execution_count": 315,
   "metadata": {
    "collapsed": false
   },
   "outputs": [
    {
     "data": {
      "text/plain": [
       "(48, 19, 58)"
      ]
     },
     "execution_count": 315,
     "metadata": {},
     "output_type": "execute_result"
    }
   ],
   "source": [
    "Pxx_den_RNN.shape"
   ]
  },
  {
   "cell_type": "code",
   "execution_count": 322,
   "metadata": {
    "collapsed": false
   },
   "outputs": [],
   "source": [
    "chs = np.where(out_biTest[:,1]<0.01*2)[0]\n",
    "T = int(ECoG.shape[0]/timesteps)\n",
    "n = 20\n",
    "fs=1000\n",
    "Pxx_den_RNN = np.zeros((n, len(chs), T))\n",
    "Pxx_den_LR = np.zeros((n, len(chs), T))\n",
    "\n",
    "for t in range(T):\n",
    "    start= timesteps*t\n",
    "    EEG1, EEG2 = make_timeStepData(EEG_f, samples, timesteps, start)\n",
    "    ECoG_p = model.predict([EEG1,EEG2])\n",
    "    EEG_tr = EEG_f[start:start+timesteps, :]\n",
    "    for i, ch in enumerate(chs):\n",
    "        # RNN\n",
    "        f, Pxx_den = signal.welch(ECoG_p[:, ch], fs)\n",
    "        f = f[:n]\n",
    "        tmp = np.log10(Pxx_den[:n])\n",
    "        Pxx_den_RNN[:,i, t] = tmp#/tmp.sum()\n",
    "        # LR\n",
    "        pp = model_lrs[ch].predict(EEG_tr)\n",
    "        f, Pxx_den = signal.welch(pp, fs)\n",
    "        f = f[:n]\n",
    "        tmp = np.log10(Pxx_den[:n])\n",
    "        Pxx_den_LR[:,i, t] = tmp#/tmp.sum()"
   ]
  },
  {
   "cell_type": "code",
   "execution_count": 323,
   "metadata": {
    "collapsed": false
   },
   "outputs": [
    {
     "data": {
      "image/png": "[encoded data removed]",
      "text/plain": [
       "<matplotlib.figure.Figure at 0x7f32bd825eb8>"
      ]
     },
     "metadata": {},
     "output_type": "display_data"
    }
   ],
   "source": [
    "plt.plot(Pxx_den_RNN.mean(axis=2).mean(axis=1))\n",
    "plt.plot(Pxx_den_LR.mean(axis=2).mean(axis=1))\n",
    "\n",
    "plt.legend(['RNN', 'LR'])\n",
    "plt.xticks(range(0, len(f)), f, rotation=90)\n",
    "plt.show()"
   ]
  },
  {
   "cell_type": "code",
   "execution_count": 283,
   "metadata": {
    "collapsed": false
   },
   "outputs": [
    {
     "data": {
      "image/png": "[encoded data removed]",
      "text/plain": [
       "<matplotlib.figure.Figure at 0x7f32beb18470>"
      ]
     },
     "metadata": {},
     "output_type": "display_data"
    }
   ],
   "source": [
    "plt.plot(Pxx_den_RNN.mean(axis=2).mean(axis=1))\n",
    "plt.plot(Pxx_den_LR.mean(axis=2).mean(axis=1))\n",
    "\n",
    "plt.legend(['RNN', 'LR'])\n",
    "plt.xticks(range(0, len(f)), f, rotation=90)\n",
    "plt.show()"
   ]
  },
  {
   "cell_type": "code",
   "execution_count": 297,
   "metadata": {
    "collapsed": false
   },
   "outputs": [
    {
     "data": {
      "text/plain": [
       "58"
      ]
     },
     "execution_count": 297,
     "metadata": {},
     "output_type": "execute_result"
    }
   ],
   "source": [
    "T"
   ]
  },
  {
   "cell_type": "code",
   "execution_count": 303,
   "metadata": {
    "collapsed": false
   },
   "outputs": [
    {
     "data": {
      "text/plain": [
       "19"
      ]
     },
     "execution_count": 303,
     "metadata": {},
     "output_type": "execute_result"
    }
   ],
   "source": [
    "len(chs)"
   ]
  },
  {
   "cell_type": "code",
   "execution_count": 304,
   "metadata": {
    "collapsed": false
   },
   "outputs": [
    {
     "data": {
      "text/plain": [
       "array([141, 146, 157, 166, 167, 192, 206, 210, 212, 213, 215, 220, 221,\n",
       "       230, 231, 232, 233, 246, 247])"
      ]
     },
     "execution_count": 304,
     "metadata": {},
     "output_type": "execute_result"
    }
   ],
   "source": [
    "chs"
   ]
  },
  {
   "cell_type": "code",
   "execution_count": 306,
   "metadata": {
    "collapsed": false
   },
   "outputs": [
    {
     "data": {
      "text/plain": [
       "6.3667165876861465e-18"
      ]
     },
     "execution_count": 306,
     "metadata": {},
     "output_type": "execute_result"
    }
   ],
   "source": [
    "stats.binom_test(52, 256, p=0.05, alternative='greater')"
   ]
  },
  {
   "cell_type": "code",
   "execution_count": 307,
   "metadata": {
    "collapsed": false
   },
   "outputs": [
    {
     "data": {
      "text/plain": [
       "2.4809798291669935e-11"
      ]
     },
     "execution_count": 307,
     "metadata": {},
     "output_type": "execute_result"
    }
   ],
   "source": [
    "stats.binom_test(19, 256, p=0.01, alternative='greater')"
   ]
  },
  {
   "cell_type": "code",
   "execution_count": null,
   "metadata": {
    "collapsed": true
   },
   "outputs": [],
   "source": []
  }
 ],
 "metadata": {
  "kernelspec": {
   "display_name": "Python 3",
   "language": "python",
   "name": "python3"
  },
  "language_info": {
   "codemirror_mode": {
    "name": "ipython",
    "version": 3
   },
   "file_extension": ".py",
   "mimetype": "text/x-python",
   "name": "python",
   "nbconvert_exporter": "python",
   "pygments_lexer": "ipython3",
   "version": "3.5.3"
  }
 },
 "nbformat": 4,
 "nbformat_minor": 0
}
