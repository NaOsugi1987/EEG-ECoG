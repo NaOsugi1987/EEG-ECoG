{
 "cells": [
  {
   "cell_type": "markdown",
   "metadata": {},
   "source": [
    "1.  データ読み込み\n",
    "2. IIR フィルター部分のネットワーク設計\n",
    "3. 空間 (共線性が強すぎるからdropoutを強めに)と EEG ECoG 結合部分のネットワーク設計 EEG ECoG　を mean_squared_error に入力（同じ周波数フィルターが学習できるかも確認したいから別々に学習）\n",
    "4. EEG->　時 -> 空　での学習と、EEG->空だけの学習\n",
    "5. EEG を複製して入力すると、周波数フィルターを複数学習できるかテスト（そのままだと高周波は難しい気がする）"
   ]
  },
  {
   "cell_type": "code",
   "execution_count": 1,
   "metadata": {
    "collapsed": false
   },
   "outputs": [],
   "source": [
    "# -*- coding: utf_8 -*-  \n",
    "import json\n",
    "import pandas as pd\n",
    "import numpy as np\n",
    "import datetime\n",
    "import math\n",
    "import time\n",
    "\n",
    "import chainer\n",
    "from chainer import cuda, Function, gradient_check, utils, Variable\n",
    "from chainer import optimizers, serializers\n",
    "from chainer import Link, Chain, ChainList\n",
    "import chainer.functions as F\n",
    "import chainer.links as L\n",
    "\n",
    "\n",
    "\n",
    "import pickle\n",
    "import sys\n",
    "import random\n",
    "import h5py"
   ]
  },
  {
   "cell_type": "code",
   "execution_count": 2,
   "metadata": {
    "collapsed": true
   },
   "outputs": [],
   "source": [
    "test=h5py.File('Ma/DeepANES.mat')\n",
    "\n",
    "ECoG = np.array(test['ECoG'])\n",
    "EEG = np.array(test['EEG'])"
   ]
  },
  {
   "cell_type": "code",
   "execution_count": 3,
   "metadata": {
    "collapsed": false
   },
   "outputs": [],
   "source": [
    "EEG = EEG.astype('float32')\n",
    "ECoG = ECoG.astype('float32')"
   ]
  },
  {
   "cell_type": "code",
   "execution_count": 4,
   "metadata": {
    "collapsed": true
   },
   "outputs": [],
   "source": [
    "class BasicSpacePerceptron(Chain):\n",
    "    def __init__(self):\n",
    "        super(BasicSpacePerceptron, self).__init__(\n",
    "            transformEEG = L.Linear(17, 256)# EEG 空間\n",
    "        )\n",
    "        \n",
    "    def __call__(self, EEG, ECoG, train=False):\n",
    "        eeg_space = self.transformEEG(EEG)\n",
    "        eeg_space_dropout = F.dropout(eeg_space, train=train, ratio=0.5)\n",
    "        ecog  = ECoG\n",
    "        y = eeg_space_dropout - ecog\n",
    "        return y\n",
    "   "
   ]
  },
  {
   "cell_type": "code",
   "execution_count": 5,
   "metadata": {
    "collapsed": false
   },
   "outputs": [],
   "source": [
    "basicSpacePerceptron = BasicSpacePerceptron()\n",
    "optimizer = optimizers.AdaDelta()\n",
    "optimizer.setup(basicSpacePerceptron)\n",
    "optimizer.weight_decay(0.0005)\n"
   ]
  },
  {
   "cell_type": "code",
   "execution_count": 18,
   "metadata": {
    "collapsed": false
   },
   "outputs": [
    {
     "ename": "IndexError",
     "evalue": "index 1 is out of bounds for axis 0 with size 1",
     "output_type": "error",
     "traceback": [
      "\u001b[0;31m---------------------------------------------------------------------------\u001b[0m",
      "\u001b[0;31mIndexError\u001b[0m                                Traceback (most recent call last)",
      "\u001b[0;32m<ipython-input-18-a1d23fa6fd2d>\u001b[0m in \u001b[0;36m<module>\u001b[0;34m()\u001b[0m\n\u001b[1;32m     11\u001b[0m \u001b[0mtest\u001b[0m \u001b[0;34m=\u001b[0m \u001b[0mEEG\u001b[0m\u001b[0;34m.\u001b[0m\u001b[0mdot\u001b[0m\u001b[0;34m(\u001b[0m\u001b[0mbasicSpacePerceptron\u001b[0m\u001b[0;34m.\u001b[0m\u001b[0mtransformEEG\u001b[0m\u001b[0;34m.\u001b[0m\u001b[0mW\u001b[0m\u001b[0;34m.\u001b[0m\u001b[0mdata\u001b[0m\u001b[0;34m.\u001b[0m\u001b[0mT\u001b[0m\u001b[0;34m)\u001b[0m\u001b[0;34m\u001b[0m\u001b[0m\n\u001b[1;32m     12\u001b[0m \u001b[0;32mfor\u001b[0m \u001b[0mj\u001b[0m \u001b[0;32min\u001b[0m \u001b[0mrange\u001b[0m\u001b[0;34m(\u001b[0m\u001b[0;36m256\u001b[0m\u001b[0;34m)\u001b[0m\u001b[0;34m:\u001b[0m\u001b[0;34m\u001b[0m\u001b[0m\n\u001b[0;32m---> 13\u001b[0;31m     \u001b[0mcor_history\u001b[0m\u001b[0;34m[\u001b[0m\u001b[0;36m1\u001b[0m\u001b[0;34m,\u001b[0m \u001b[0mj\u001b[0m\u001b[0;34m]\u001b[0m \u001b[0;34m=\u001b[0m \u001b[0mnp\u001b[0m\u001b[0;34m.\u001b[0m\u001b[0mcorrcoef\u001b[0m\u001b[0;34m(\u001b[0m\u001b[0mtest\u001b[0m\u001b[0;34m[\u001b[0m\u001b[0mj\u001b[0m\u001b[0;34m,\u001b[0m\u001b[0;34m:\u001b[0m\u001b[0;34m]\u001b[0m\u001b[0;34m,\u001b[0m \u001b[0mECoG\u001b[0m\u001b[0;34m[\u001b[0m\u001b[0mj\u001b[0m\u001b[0;34m,\u001b[0m\u001b[0;34m:\u001b[0m\u001b[0;34m]\u001b[0m\u001b[0;34m)\u001b[0m\u001b[0;34m[\u001b[0m\u001b[0;36m0\u001b[0m\u001b[0;34m,\u001b[0m \u001b[0;36m1\u001b[0m\u001b[0;34m]\u001b[0m\u001b[0;34m\u001b[0m\u001b[0m\n\u001b[0m\u001b[1;32m     14\u001b[0m \u001b[0mprint\u001b[0m\u001b[0;34m(\u001b[0m\u001b[0mloss\u001b[0m\u001b[0;34m.\u001b[0m\u001b[0mdata\u001b[0m\u001b[0;34m)\u001b[0m\u001b[0;34m\u001b[0m\u001b[0m\n\u001b[1;32m     15\u001b[0m \u001b[0mprint\u001b[0m\u001b[0;34m(\u001b[0m\u001b[0mtime\u001b[0m\u001b[0;34m.\u001b[0m\u001b[0mtime\u001b[0m\u001b[0;34m(\u001b[0m\u001b[0;34m)\u001b[0m\u001b[0;34m-\u001b[0m\u001b[0mst\u001b[0m\u001b[0;34m)\u001b[0m\u001b[0;34m\u001b[0m\u001b[0m\n",
      "\u001b[0;31mIndexError\u001b[0m: index 1 is out of bounds for axis 0 with size 1"
     ]
    }
   ],
   "source": [
    "basicSpacePerceptron.zerograds()\n",
    "loop = 200\n",
    "cor_history = np.zeros((1, 256))\n",
    "loss_history = np.zeros((loop, 1))\n",
    "st = time.time()\n",
    "for i in range(loop):\n",
    "    loss = F.sum(basicSpacePerceptron(Variable(EEG), Variable(ECoG), train=True) **2)\n",
    "    loss.backward()\n",
    "    optimizer.update()\n",
    "    loss_history[i] = loss.data"
   ]
  },
  {
   "cell_type": "code",
   "execution_count": 20,
   "metadata": {
    "collapsed": false
   },
   "outputs": [
    {
     "name": "stdout",
     "output_type": "stream",
     "text": [
      "1415462038536192.0\n",
      "806.8021790981293\n"
     ]
    }
   ],
   "source": [
    "test = EEG.dot(basicSpacePerceptron.transformEEG.W.data.T)\n",
    "for j in range(256):\n",
    "    cor_history[0,  j] = np.corrcoef(test[j,:], ECoG[j,:])[0, 1]\n",
    "print(loss.data)\n",
    "print(time.time()-st)"
   ]
  },
  {
   "cell_type": "markdown",
   "metadata": {},
   "source": [
    "### 時間フィルター FIR と IIR を試す"
   ]
  },
  {
   "cell_type": "code",
   "execution_count": null,
   "metadata": {
    "collapsed": true
   },
   "outputs": [],
   "source": [
    "# y = [y0, y1, y2, y3] 4 order までしかやらん！\n",
    "\n",
    "y0 = model.IIR_linear()"
   ]
  },
  {
   "cell_type": "code",
   "execution_count": 163,
   "metadata": {
    "collapsed": false
   },
   "outputs": [],
   "source": [
    "class TimeSpacePerceptron(Chain):\n",
    "    def __init__(self):\n",
    "        tt = 299997\n",
    "        super(TimeSpacePerceptron, self).__init__(\n",
    "            transformEEG = L.Linear(17, 256)# EEG 空間\n",
    "            )\n",
    "        self.IIR_EEG = [L.Linear(7, 1)] * 17, #copy されているかは要チェック\n",
    "        self.IIR_ECoG = [L.Linear(7, 1)] * 256\n",
    "        self.EEG_IIRs_prev = [[Variable(np.zeros((tt, 1)).astype('float32'))]*4]*17\n",
    "        self.ECoG_IIRs_prev = [[Variable(np.zeros((tt, 1)).astype('float32'))]*4]*256\n",
    "        \n",
    "    def __call__(self, EEG_t, ECoG_t, train=False):\n",
    "        EEG_IIRs_prev = self.EEG_IIRs_prev\n",
    "        ECoG_IIRs_prev = self.ECoG_IIRs_prev\n",
    "        # EEG_t は 16 * time * time_delay\n",
    "        EEG_IIRs = [] # ネットワーク y0, y1, y2, y3 が入る ch の数だけ配列\n",
    "        for ch in range(EEG_t.data.shape[1]):\n",
    "            EEG_IIRs.append(self.IIR_learn(EEG_t[:, ch, :], EEG_IIRs_prev[ch], self.IIR_EEG[0][ch]))\n",
    "        ECoG_IIRs = [] # ネットワーク y0, y1, y2, y3 が入る ch の数だけ配列\n",
    "        for ch in range(ECoG_t.data.shape[1]):\n",
    "            ECoG_IIRs.append(self.IIR_learn(ECoG_t[:, ch, :], ECoG_IIRs_prev[ch], self.IIR_ECoG[ch]))\n",
    "        EEG_filtered, ECoG_filtered = [], []\n",
    "        for ch in range(EEG_t.data.shape[1]):\n",
    "            EEG_filtered.append(EEG_IIRs[ch][0])\n",
    "        EEG_filtered = F.concat(tuple(EEG_filtered))\n",
    "        for ch in range(ECoG_t.data.shape[1]):\n",
    "            ECoG_filtered.append(ECoG_IIRs[ch][0])\n",
    "        ECoG_filtered = F.concat(tuple(ECoG_filtered))\n",
    "        # ここまで IIR\n",
    "        eeg_space = self.transformEEG(EEG_filtered)\n",
    "        eeg_space_dropout = F.dropout(eeg_space, train=train, ratio=0.5)\n",
    "        ecog  = ECoG_filtered\n",
    "        y = eeg_space_dropout - ecog\n",
    "        self.EEG_IIRs_prev = EEG_IIRs\n",
    "        self.ECoG_IIRs_prev = ECoG_IIRs\n",
    "        return y\n",
    "    \n",
    "    def IIR_learn(self, data, IIRs_prev, IIR_transform):\n",
    "        #data = Variable(data.reshape((data.shape[1], data.shape[2])))\n",
    "        x = F.concat((data, IIRs_prev[0], IIRs_prev[1], IIRs_prev[2]))\n",
    "        y= IIR_transform(x)\n",
    "        return([y, IIRs_prev[0], IIRs_prev[1], IIRs_prev[2]])\n",
    "    "
   ]
  },
  {
   "cell_type": "code",
   "execution_count": 164,
   "metadata": {
    "collapsed": false
   },
   "outputs": [],
   "source": [
    "timeSpacePerceptron = TimeSpacePerceptron()\n",
    "optimizer = optimizers.AdaDelta()\n",
    "optimizer.setup(basicSpacePerceptron)\n",
    "optimizer.weight_decay(0.0005)\n"
   ]
  },
  {
   "cell_type": "code",
   "execution_count": null,
   "metadata": {
    "collapsed": false
   },
   "outputs": [],
   "source": [
    "timeSpacePerceptron.zerograds()\n",
    "loop = 3\n",
    "cor_history = np.zeros((loop, 256))\n",
    "loss_history = np.zeros((loop, 1))\n",
    "st = time.time()\n",
    "EEG_t = np.zeros((EEG.shape[0]-3, EEG.shape[1], 4))\n",
    "ECoG_t = np.zeros((ECoG.shape[0]-3, ECoG.shape[1], 4))\n",
    "for t in range(4):\n",
    "    for ch in range(EEG.shape[1]):\n",
    "        EEG_t[:,ch,t] = EEG[t:EEG.shape[0]-3+t, ch]\n",
    "    for ch in range(ECoG.shape[1]):\n",
    "        ECoG_t[:,ch,t] = ECoG[t:ECoG.shape[0]-3+t, ch]\n",
    "EEG_t = Variable(EEG_t.astype('float32'))\n",
    "ECoG_t = Variable(ECoG_t.astype('float32'))\n",
    "for i in range(loop):\n",
    "    loss = F.sum(timeSpacePerceptron(EEG_t, ECoG_t, train=True) **2)\n",
    "    loss.backward()\n",
    "    optimizer.update()\n",
    "    loss_history[i] = loss.data\n",
    "    test = EEG.dot(timeSpacePerceptron.transformEEG.W.data.T)\n",
    "    for j in range(256):\n",
    "        cor_history[i, j] = np.corrcoef(test[j,:], ECoG[j,:])[0, 1]\n",
    "    print(loss.data)\n",
    "print(time.time()-st)"
   ]
  },
  {
   "cell_type": "code",
   "execution_count": 104,
   "metadata": {
    "collapsed": false
   },
   "outputs": [
    {
     "data": {
      "text/plain": [
       "array([[ 1.        ,  0.00596444],\n",
       "       [ 0.00596444,  1.        ]])"
      ]
     },
     "execution_count": 104,
     "metadata": {},
     "output_type": "execute_result"
    }
   ],
   "source": [
    "np.corrcoef(test[0,:], ECoG[0,:])"
   ]
  },
  {
   "cell_type": "code",
   "execution_count": null,
   "metadata": {
    "collapsed": true
   },
   "outputs": [],
   "source": [
    "np.corrcoef(test, ECoG).shape"
   ]
  },
  {
   "cell_type": "code",
   "execution_count": 79,
   "metadata": {
    "collapsed": false
   },
   "outputs": [
    {
     "data": {
      "text/plain": [
       "(299997, 17, 4)"
      ]
     },
     "execution_count": 79,
     "metadata": {},
     "output_type": "execute_result"
    }
   ],
   "source": [
    "EEG_t.shape"
   ]
  },
  {
   "cell_type": "code",
   "execution_count": 124,
   "metadata": {
    "collapsed": true
   },
   "outputs": [],
   "source": [
    "a = Variable(np.zeros(2))"
   ]
  },
  {
   "cell_type": "code",
   "execution_count": 139,
   "metadata": {
    "collapsed": false
   },
   "outputs": [
    {
     "ename": "IndexError",
     "evalue": "tuple index out of range",
     "output_type": "error",
     "traceback": [
      "\u001b[0;31m---------------------------------------------------------------------------\u001b[0m",
      "\u001b[0;31mIndexError\u001b[0m                                Traceback (most recent call last)",
      "\u001b[0;32m<ipython-input-139-aa1a85c5d1e2>\u001b[0m in \u001b[0;36m<module>\u001b[0;34m()\u001b[0m\n\u001b[0;32m----> 1\u001b[0;31m \u001b[0mtimeSpacePerceptron\u001b[0m\u001b[0;34m.\u001b[0m\u001b[0mIIR_EEG\u001b[0m\u001b[0;34m[\u001b[0m\u001b[0;36m1\u001b[0m\u001b[0;34m]\u001b[0m\u001b[0;34m[\u001b[0m\u001b[0;36m0\u001b[0m\u001b[0;34m]\u001b[0m\u001b[0;34m\u001b[0m\u001b[0m\n\u001b[0m",
      "\u001b[0;31mIndexError\u001b[0m: tuple index out of range"
     ]
    }
   ],
   "source": [
    "timeSpacePerceptron.IIR_EEG[1][0]"
   ]
  },
  {
   "cell_type": "code",
   "execution_count": null,
   "metadata": {
    "collapsed": true
   },
   "outputs": [],
   "source": []
  }
 ],
 "metadata": {
  "kernelspec": {
   "display_name": "Python 3",
   "language": "python",
   "name": "python3"
  },
  "language_info": {
   "codemirror_mode": {
    "name": "ipython",
    "version": 3
   },
   "file_extension": ".py",
   "mimetype": "text/x-python",
   "name": "python",
   "nbconvert_exporter": "python",
   "pygments_lexer": "ipython3",
   "version": "3.5.2"
  }
 },
 "nbformat": 4,
 "nbformat_minor": 0
}
