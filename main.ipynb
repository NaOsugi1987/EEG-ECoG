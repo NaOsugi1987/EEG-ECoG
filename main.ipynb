{
 "cells": [
  {
   "cell_type": "markdown",
   "metadata": {},
   "source": [
    "https://docs.google.com/spreadsheets/d/1gam0mswuTGMM_MGN_yT_RPl42gPnDqpSIbZcN0fHQ9w/edit?usp=sharing"
   ]
  },
  {
   "cell_type": "markdown",
   "metadata": {},
   "source": [
    "1.  データ読み込み\n",
    "2. IIR フィルター部分のネットワーク設計\n",
    "3. 空間 (共線性が強すぎるからdropoutを強めに)と EEG ECoG 結合部分のネットワーク設計 EEG ECoG　を mean_squared_error に入力（同じ周波数フィルターが学習できるかも確認したいから別々に学習）\n",
    "4. EEG->　時 -> 空　での学習と、EEG->空だけの学習\n",
    "5. EEG を複製して入力すると、周波数フィルターを複数学習できるかテスト（そのままだと高周波は難しい気がする）"
   ]
  },
  {
   "cell_type": "code",
   "execution_count": 9,
   "metadata": {
    "collapsed": false
   },
   "outputs": [],
   "source": [
    "# -*- coding: utf_8 -*-  \n",
    "%matplotlib inline\n",
    "\n",
    "import matplotlib.pyplot as plt\n",
    "import seaborn\n",
    "\n",
    "import copy\n",
    "import json\n",
    "import pandas as pd\n",
    "import numpy as np\n",
    "import datetime\n",
    "import math\n",
    "import time\n",
    "\n",
    "import chainer\n",
    "from chainer import cuda, Function, gradient_check, utils, Variable\n",
    "from chainer import optimizers, serializers\n",
    "from chainer import Link, Chain, ChainList\n",
    "import chainer.functions as F\n",
    "import chainer.links as L\n",
    "\n",
    "from scipy import signal\n",
    "\n",
    "import pickle\n",
    "import sys\n",
    "import random\n",
    "import h5py"
   ]
  },
  {
   "cell_type": "code",
   "execution_count": 3,
   "metadata": {
    "collapsed": true
   },
   "outputs": [],
   "source": [
    "test=h5py.File('Ma/DeepANES.mat')\n",
    "\n",
    "ECoG = np.array(test['ECoG'])\n",
    "EEG = np.array(test['EEG'])"
   ]
  },
  {
   "cell_type": "code",
   "execution_count": 4,
   "metadata": {
    "collapsed": false
   },
   "outputs": [],
   "source": [
    "EEG = np.delete(EEG, 14, axis=1)"
   ]
  },
  {
   "cell_type": "code",
   "execution_count": 5,
   "metadata": {
    "collapsed": false
   },
   "outputs": [],
   "source": [
    "EEG = EEG.astype('float32')\n",
    "ECoG = ECoG.astype('float32')"
   ]
  },
  {
   "cell_type": "code",
   "execution_count": 236,
   "metadata": {
    "collapsed": true
   },
   "outputs": [],
   "source": [
    "class BasicSpacePerceptron(Chain):\n",
    "    def __init__(self):\n",
    "        super(BasicSpacePerceptron, self).__init__(\n",
    "            transformEEG = L.Linear(16, 256)# EEG 空間\n",
    "        )\n",
    "        \n",
    "    def __call__(self, EEG, ECoG, train=False):\n",
    "        eeg_space = self.transformEEG(EEG)\n",
    "        eeg_space_dropout = F.dropout(eeg_space, train=train, ratio=0.5)\n",
    "        ecog  = ECoG\n",
    "        y = eeg_space_dropout - ecog\n",
    "        return y\n",
    "   "
   ]
  },
  {
   "cell_type": "code",
   "execution_count": 237,
   "metadata": {
    "collapsed": false
   },
   "outputs": [],
   "source": [
    "basicSpacePerceptron = BasicSpacePerceptron()\n",
    "optimizer = optimizers.AdaDelta()\n",
    "optimizer.setup(basicSpacePerceptron)\n",
    "optimizer.weight_decay(0.0005)\n"
   ]
  },
  {
   "cell_type": "code",
   "execution_count": 238,
   "metadata": {
    "collapsed": false
   },
   "outputs": [],
   "source": [
    "basicSpacePerceptron.zerograds()\n",
    "loop = 200\n",
    "cor_history = np.zeros((1, 256))\n",
    "loss_history = np.zeros((loop, 1))\n",
    "st = time.time()\n",
    "for i in range(loop):\n",
    "    loss = F.sum(basicSpacePerceptron(Variable(EEG[train_time[0]:train_time[1], :]), Variable(ECoG[train_time[0]:train_time[1], :]), train=True) **2)\n",
    "    loss.backward()\n",
    "    optimizer.update()\n",
    "    loss_history[i] = loss.data"
   ]
  },
  {
   "cell_type": "code",
   "execution_count": 239,
   "metadata": {
    "collapsed": false
   },
   "outputs": [
    {
     "data": {
      "text/plain": [
       "[<matplotlib.lines.Line2D at 0x1323de208>]"
      ]
     },
     "execution_count": 239,
     "metadata": {},
     "output_type": "execute_result"
    },
    {
     "data": {
      "image/png": "[encoded data removed]",
      "text/plain": [
       "<matplotlib.figure.Figure at 0x132266ba8>"
      ]
     },
     "metadata": {},
     "output_type": "display_data"
    }
   ],
   "source": [
    "plt.plot(loss_history)"
   ]
  },
  {
   "cell_type": "code",
   "execution_count": 248,
   "metadata": {
    "collapsed": false
   },
   "outputs": [
    {
     "data": {
      "text/plain": [
       "(300000, 256)"
      ]
     },
     "execution_count": 248,
     "metadata": {},
     "output_type": "execute_result"
    }
   ],
   "source": [
    "test.shape"
   ]
  },
  {
   "cell_type": "code",
   "execution_count": 249,
   "metadata": {
    "collapsed": false
   },
   "outputs": [
    {
     "name": "stdout",
     "output_type": "stream",
     "text": [
      "1691587096608768.0\n"
     ]
    }
   ],
   "source": [
    "test = EEG.dot(basicSpacePerceptron.transformEEG.W.data.T)\n",
    "for j in range(256):\n",
    "    cor_history[0,  j] = np.corrcoef(test[train_time[1]:-1, j], ECoG[train_time[1]:-1, j])[0, 1]\n",
    "print(loss.data)"
   ]
  },
  {
   "cell_type": "code",
   "execution_count": 250,
   "metadata": {
    "collapsed": false
   },
   "outputs": [
    {
     "data": {
      "text/plain": [
       "[<matplotlib.lines.Line2D at 0x13256b860>]"
      ]
     },
     "execution_count": 250,
     "metadata": {},
     "output_type": "execute_result"
    },
    {
     "data": {
      "image/png": "[encoded data removed]",
      "text/plain": [
       "<matplotlib.figure.Figure at 0x13216e278>"
      ]
     },
     "metadata": {},
     "output_type": "display_data"
    }
   ],
   "source": [
    "plt.plot(cor_history[0,])"
   ]
  },
  {
   "cell_type": "markdown",
   "metadata": {},
   "source": [
    "### 時間フィルター FIR と IIR を試す"
   ]
  },
  {
   "cell_type": "code",
   "execution_count": null,
   "metadata": {
    "collapsed": true
   },
   "outputs": [],
   "source": [
    "# y = [y0, y1, y2, y3] 4 order までしかやらん！\n",
    "\n",
    "y0 = model.IIR_linear()"
   ]
  },
  {
   "cell_type": "markdown",
   "metadata": {},
   "source": [
    "IIR 全部バラバラ"
   ]
  },
  {
   "cell_type": "code",
   "execution_count": 452,
   "metadata": {
    "collapsed": false
   },
   "outputs": [],
   "source": [
    "b, a = signal.butter(2, [1/500 *1 , 1/500*30], 'bandpass')\n",
    "bb = list(b)\n",
    "bb.extend(a)\n",
    "butter_filt = [bb]\n",
    "butter_filt = np.array(butter_filt).astype('float32')\n",
    "\n",
    "#w, h = signal.freqz(b, a)\n",
    "#plt.plot(h)\n",
    "\n",
    "#for ch in range(256):\n",
    "#   timeSpacePerceptron.IIR_ECoG[ch].W.data = butter_filt\n",
    "#for ch in range(16):\n",
    "#    timeSpacePerceptron.IIR_EEG[ch].W.data = butter_filt"
   ]
  },
  {
   "cell_type": "code",
   "execution_count": 453,
   "metadata": {
    "collapsed": false
   },
   "outputs": [
    {
     "data": {
      "text/plain": [
       "(1, 10)"
      ]
     },
     "execution_count": 453,
     "metadata": {},
     "output_type": "execute_result"
    }
   ],
   "source": [
    "butter_filt.shape"
   ]
  },
  {
   "cell_type": "code",
   "execution_count": 947,
   "metadata": {
    "collapsed": false
   },
   "outputs": [],
   "source": [
    "b, a = signal.butter(2, [1/500 *1 , 1/500*100], 'bandpass')\n",
    "bb = list(b)\n",
    "bb.extend(a)\n",
    "butter_filt = [bb]\n",
    "butter_filt = np.array(butter_filt).astype('float32')"
   ]
  },
  {
   "cell_type": "code",
   "execution_count": null,
   "metadata": {
    "collapsed": true
   },
   "outputs": [],
   "source": [
    "# ここは動く\n",
    "class TimeSpacePerceptron(Chain):\n",
    "    def __init__(self):\n",
    "        self.tt = 1999\n",
    "        self.eeg_num =16\n",
    "        self.ecog_num = 256\n",
    "        super(TimeSpacePerceptron, self).__init__(\n",
    "            transformECoG = L.Linear(self.ecog_num, self.eeg_num)# ECoG to EEG 空間\n",
    "            )\n",
    "        for eeg_ch in range(self.eeg_num):\n",
    "            super(TimeSpacePerceptron, self).add_link('IIR_EEG{0}'.format(eeg_ch), L.Linear(10, 1))\n",
    "        for ecog_ch in range(self.ecog_num):\n",
    "            super(TimeSpacePerceptron, self).add_link('IIR_ECoG{0}'.format(ecog_ch), L.Linear(10, 1))\n",
    "        self.EEG_filtered_prev = [Variable(np.zeros((self.tt, 1)).astype('float32')) for j in range(self.eeg_num)] #前の出力をいれるところ　(RNN)\n",
    "        self.ECoG_filtered_prev = [Variable(np.zeros((self.tt, 1)).astype('float32')) for j in range(self.ecog_num)] #前の出力をいれるところ\n",
    "        \n",
    "    def __call__(self, EEG_t, ECoG_t, train=False):\n",
    "        EEG_filtered_prev = self.EEG_filtered_prev\n",
    "        ECoG_filtered_prev = self.ECoG_filtered_prev\n",
    "        # EEG_t は 16 * time * time_delay\n",
    "        #EEG IIR\n",
    "        EEG_filtered = [] #  y0, y1, y2, y3, y4 が入る ch の数だけ配列\n",
    "        for ch in range(self.eeg_num):\n",
    "            pre_y = [np.zeros((self.tt, 1)).astype('float32') for  i in range(5)]\n",
    "            for t in range(5):\n",
    "                pre_y[t][t:] = EEG_filtered_prev[ch].data[:len(pre_y[t])-t]\n",
    "                pre_y[t] = Variable(pre_y[t])\n",
    "            x = F.concat((EEG_t[:, ch, :], pre_y[0], pre_y[1], pre_y[2], pre_y[3], pre_y[4]))\n",
    "            y = self.__dict__['IIR_EEG{0}'.format(ch)](x)\n",
    "            EEG_filtered.append(y)\n",
    "            EEG_filtered_prev[ch] = y\n",
    "        EEG_filtered = F.concat(tuple(EEG_filtered))\n",
    "        #ECoG IIR\n",
    "        ECoG_filtered = [] #  y0, y1, y2, y3, y4 が入る ch の数だけ配列\n",
    "        for ch in range(self.ecog_num):\n",
    "            pre_y = [np.zeros((self.tt, 1)).astype('float32') for  i in range(5)]\n",
    "            for t in range(5):\n",
    "                pre_y[t][t:] = ECoG_filtered_prev[ch].data[:len(pre_y[t])-t]\n",
    "                pre_y[t] = Variable(pre_y[t])\n",
    "            x = F.concat((ECoG_t[:, ch, :], pre_y[0], pre_y[1], pre_y[2], pre_y[3], pre_y[4]))\n",
    "            y = self.__dict__['IIR_ECoG{0}'.format(ch)](x)\n",
    "            ECoG_filtered.append(y)\n",
    "            ECoG_filtered_prev[ch] = y\n",
    "        ECoG_filtered = F.concat(tuple(ECoG_filtered))\n",
    "        # ここまで IIR\n",
    "        ecog_space = self.transformECoG(ECoG_filtered)\n",
    "        ecog_space_dropout = F.dropout(ecog_space, train=train, ratio=0.5)\n",
    "        eeg  = EEG_filtered\n",
    "        self.EEG_filtered_prev =EEG_filtered_prev\n",
    "        self.ECoG_filtered_prev = ECoG_filtered_prev\n",
    "        return ecog_space_dropout, eeg\n",
    "\n",
    "    \n",
    "#    def IIR_learn(self, data, IIRs_prev, IIR_transform):\n",
    "#        #data = Variable(data.reshape((data.shape[1], data.shape[2])))\n",
    "#        x = F.concat((data, IIRs_prev[0], IIRs_prev[1], IIRs_prev[2], IIRs_prev[3], IIRs_prev[4]))\n",
    "#        y= IIR_transform(x)\n",
    "#        return([y, IIRs_prev[0], IIRs_prev[1], IIRs_prev[2],IIRs_prev[3]]) # 現在の出力と過去３つの出力\n",
    "    "
   ]
  },
  {
   "cell_type": "code",
   "execution_count": 969,
   "metadata": {
    "collapsed": false
   },
   "outputs": [],
   "source": [
    "# IIR をEEG, ECoG 間で共通に これはいい感じに動いた　313878.03125\n",
    "class TimeSpacePerceptron(Chain):\n",
    "    def __init__(self):\n",
    "        self.tt = 1999\n",
    "        self.eeg_num =16\n",
    "        self.ecog_num = 256\n",
    "        super(TimeSpacePerceptron, self).__init__(\n",
    "            transformECoG = L.Linear(self.ecog_num, self.eeg_num)# ECoG to EEG 空間\n",
    "            )\n",
    "        super(TimeSpacePerceptron, self).add_link('IIR_EEG', L.Linear(10, 1))\n",
    "        super(TimeSpacePerceptron, self).add_link('IIR_ECoG', L.Linear(10, 1))\n",
    "        #for eeg_ch in range(self.eeg_num):\n",
    "        #    super(TimeSpacePerceptron, self).add_link('IIR_EEG{0}'.format(eeg_ch), L.Linear(10, 1))\n",
    "        #for ecog_ch in range(self.ecog_num):\n",
    "        #    super(TimeSpacePerceptron, self).add_link('IIR_ECoG{0}'.format(ecog_ch), L.Linear(10, 1))\n",
    "        self.EEG_filtered_prev = [Variable(np.zeros((self.tt, 1)).astype('float32')) for j in range(self.eeg_num)] #前の出力をいれるところ　(RNN)\n",
    "        self.ECoG_filtered_prev = [Variable(np.zeros((self.tt, 1)).astype('float32')) for j in range(self.ecog_num)] #前の出力をいれるところ\n",
    "        \n",
    "    def __call__(self, EEG_t, ECoG_t, train=False):\n",
    "        EEG_filtered_prev = self.EEG_filtered_prev\n",
    "        ECoG_filtered_prev = self.ECoG_filtered_prev\n",
    "        # EEG_t は 16 * time * time_delay\n",
    "        #EEG IIR\n",
    "        EEG_filtered = [] #  y0, y1, y2, y3, y4 が入る ch の数だけ配列\n",
    "        for ch in range(self.eeg_num):\n",
    "            pre_y = [np.zeros((self.tt, 1)).astype('float32') for  i in range(5)]\n",
    "            for t in range(5):\n",
    "                pre_y[t][t:] = EEG_filtered_prev[ch].data[:len(pre_y[t])-t]\n",
    "                pre_y[t] = Variable(pre_y[t])\n",
    "            x = F.concat((EEG_t[:, ch, :], pre_y[0], pre_y[1], pre_y[2], pre_y[3], pre_y[4]))\n",
    "            y = self.__dict__['IIR_EEG'](x)\n",
    "            EEG_filtered.append(y)\n",
    "            EEG_filtered_prev[ch] = y\n",
    "        EEG_filtered = F.concat(tuple(EEG_filtered))\n",
    "        #ECoG IIR\n",
    "        ECoG_filtered = [] #  y0, y1, y2, y3, y4 が入る ch の数だけ配列\n",
    "        for ch in range(self.ecog_num):\n",
    "            pre_y = [np.zeros((self.tt, 1)).astype('float32') for  i in range(5)]\n",
    "            for t in range(5):\n",
    "                pre_y[t][t:] = ECoG_filtered_prev[ch].data[:len(pre_y[t])-t]\n",
    "                pre_y[t] = Variable(pre_y[t])\n",
    "            x = F.concat((ECoG_t[:, ch, :], pre_y[0], pre_y[1], pre_y[2], pre_y[3], pre_y[4]))\n",
    "            y = self.__dict__['IIR_ECoG'](x)\n",
    "            ECoG_filtered.append(y)\n",
    "            ECoG_filtered_prev[ch] = y\n",
    "        ECoG_filtered = F.concat(tuple(ECoG_filtered))\n",
    "        # ここまで IIR\n",
    "        ecog_space = self.transformECoG(ECoG_filtered)\n",
    "        ecog_space_dropout = F.dropout(ecog_space, train=train, ratio=0.5)\n",
    "        eeg  = EEG_filtered\n",
    "        self.EEG_filtered_prev =EEG_filtered_prev\n",
    "        self.ECoG_filtered_prev = ECoG_filtered_prev\n",
    "        return ecog_space_dropout, eeg\n",
    "\n",
    "    \n",
    "#    def IIR_learn(self, data, IIRs_prev, IIR_transform):\n",
    "#        #data = Variable(data.reshape((data.shape[1], data.shape[2])))\n",
    "#        x = F.concat((data, IIRs_prev[0], IIRs_prev[1], IIRs_prev[2], IIRs_prev[3], IIRs_prev[4]))\n",
    "#        y= IIR_transform(x)\n",
    "#        return([y, IIRs_prev[0], IIRs_prev[1], IIRs_prev[2],IIRs_prev[3]]) # 現在の出力と過去３つの出力\n",
    "    "
   ]
  },
  {
   "cell_type": "code",
   "execution_count": 1003,
   "metadata": {
    "collapsed": true
   },
   "outputs": [],
   "source": [
    "# IIR をEEG, ECoG 全部で共通　9808.40625\n",
    "class TimeSpacePerceptron(Chain):\n",
    "    def __init__(self):\n",
    "        self.tt = 1999\n",
    "        self.eeg_num =16\n",
    "        self.ecog_num = 256\n",
    "        super(TimeSpacePerceptron, self).__init__(\n",
    "            transformECoG = L.Linear(self.ecog_num, self.eeg_num)# ECoG to EEG 空間\n",
    "            )\n",
    "        super(TimeSpacePerceptron, self).add_link('IIR', L.Linear(10, 1))\n",
    "        #for eeg_ch in range(self.eeg_num):\n",
    "        #    super(TimeSpacePerceptron, self).add_link('IIR_EEG{0}'.format(eeg_ch), L.Linear(10, 1))\n",
    "        #for ecog_ch in range(self.ecog_num):\n",
    "        #    super(TimeSpacePerceptron, self).add_link('IIR_ECoG{0}'.format(ecog_ch), L.Linear(10, 1))\n",
    "        self.EEG_filtered_prev = [Variable(np.zeros((self.tt, 1)).astype('float32')) for j in range(self.eeg_num)] #前の出力をいれるところ　(RNN)\n",
    "        self.ECoG_filtered_prev = [Variable(np.zeros((self.tt, 1)).astype('float32')) for j in range(self.ecog_num)] #前の出力をいれるところ\n",
    "        \n",
    "    def __call__(self, EEG_t, ECoG_t, train=False):\n",
    "        EEG_filtered_prev = self.EEG_filtered_prev\n",
    "        ECoG_filtered_prev = self.ECoG_filtered_prev\n",
    "        # EEG_t は 16 * time * time_delay\n",
    "        #EEG IIR\n",
    "        EEG_filtered = [] #  y0, y1, y2, y3, y4 が入る ch の数だけ配列\n",
    "        for ch in range(self.eeg_num):\n",
    "            pre_y = [np.zeros((self.tt, 1)).astype('float32') for  i in range(5)]\n",
    "            for t in range(5):\n",
    "                pre_y[t][t:] = EEG_filtered_prev[ch].data[:len(pre_y[t])-t]\n",
    "                pre_y[t] = Variable(pre_y[t])\n",
    "            x = F.concat((EEG_t[:, ch, :], pre_y[0], pre_y[1], pre_y[2], pre_y[3], pre_y[4]))\n",
    "            y = self.__dict__['IIR'](x)\n",
    "            EEG_filtered.append(y)\n",
    "            EEG_filtered_prev[ch] = y\n",
    "        EEG_filtered = F.concat(tuple(EEG_filtered))\n",
    "        #ECoG IIR\n",
    "        ECoG_filtered = [] #  y0, y1, y2, y3, y4 が入る ch の数だけ配列\n",
    "        for ch in range(self.ecog_num):\n",
    "            pre_y = [np.zeros((self.tt, 1)).astype('float32') for  i in range(5)]\n",
    "            for t in range(5):\n",
    "                pre_y[t][t:] = ECoG_filtered_prev[ch].data[:len(pre_y[t])-t]\n",
    "                pre_y[t] = Variable(pre_y[t])\n",
    "            x = F.concat((ECoG_t[:, ch, :], pre_y[0], pre_y[1], pre_y[2], pre_y[3], pre_y[4]))\n",
    "            y = self.__dict__['IIR'](x)\n",
    "            ECoG_filtered.append(y)\n",
    "            ECoG_filtered_prev[ch] = y\n",
    "        ECoG_filtered = F.concat(tuple(ECoG_filtered))\n",
    "        # ここまで IIR\n",
    "        ecog_space = self.transformECoG(ECoG_filtered)\n",
    "        ecog_space_dropout = F.dropout(ecog_space, train=train, ratio=0.5)\n",
    "        eeg  = EEG_filtered\n",
    "        self.EEG_filtered_prev =EEG_filtered_prev\n",
    "        self.ECoG_filtered_prev = ECoG_filtered_prev\n",
    "        return ecog_space_dropout, eeg\n",
    "\n",
    "    \n",
    "#    def IIR_learn(self, data, IIRs_prev, IIR_transform):\n",
    "#        #data = Variable(data.reshape((data.shape[1], data.shape[2])))\n",
    "#        x = F.concat((data, IIRs_prev[0], IIRs_prev[1], IIRs_prev[2], IIRs_prev[3], IIRs_prev[4]))\n",
    "#        y= IIR_transform(x)\n",
    "#        return([y, IIRs_prev[0], IIRs_prev[1], IIRs_prev[2],IIRs_prev[3]]) # 現在の出力と過去３つの出力\n",
    "    "
   ]
  },
  {
   "cell_type": "code",
   "execution_count": 1011,
   "metadata": {
    "collapsed": false
   },
   "outputs": [
    {
     "data": {
      "text/plain": [
       "array([[-0.22732764,  0.04639485,  0.59046364, -0.09409814, -0.35264575,\n",
       "         0.42165434,  0.11467954, -0.29644379,  0.22196496,  0.02191203]], dtype=float32)"
      ]
     },
     "execution_count": 1011,
     "metadata": {},
     "output_type": "execute_result"
    }
   ],
   "source": [
    "outout[0][-1].IIR.W.data"
   ]
  },
  {
   "cell_type": "code",
   "execution_count": 1015,
   "metadata": {
    "collapsed": false
   },
   "outputs": [
    {
     "data": {
      "text/plain": [
       "[<matplotlib.lines.Line2D at 0x3008670f0>]"
      ]
     },
     "execution_count": 1015,
     "metadata": {},
     "output_type": "execute_result"
    },
    {
     "data": {
      "image/png": "[encoded data removed]",
      "text/plain": [
       "<matplotlib.figure.Figure at 0x225d752b0>"
      ]
     },
     "metadata": {},
     "output_type": "display_data"
    }
   ],
   "source": [
    "w, h = signal.freqz(outout[1][-1].IIR.W.data[0][5:], outout[1][-1].IIR.W.data[0][0:5])\n",
    "plt.plot(np.abs(h))"
   ]
  },
  {
   "cell_type": "markdown",
   "metadata": {},
   "source": [
    "# 再構築\n",
    "# 初期値を変えながら大量に実行し、同じ結果になること\n",
    "# 信号をランダムに並び替えたものとの結果比較"
   ]
  },
  {
   "cell_type": "code",
   "execution_count": 1040,
   "metadata": {
    "collapsed": false
   },
   "outputs": [],
   "source": [
    "EEG_filtered, ECoG_filtered = [], []\n",
    "for ch in range(EEG.shape[1]):\n",
    "    tmp_sig = signal.filtfilt(outout[1][-1].IIR.W.data[0][5:], outout[1][-1].IIR.W.data[0][0:5], EEG[:, ch], axis=0)\n",
    "    EEG_filtered.append(tmp_sig)\n",
    "for ch in range(ECoG.shape[1]):\n",
    "    tmp_sig = signal.filtfilt(outout[1][-1].IIR.W.data[0][5:], outout[1][-1].IIR.W.data[0][0:5], ECoG[:, ch], axis=0)\n",
    "    ECoG_filtered.append(tmp_sig)\n",
    "EEG_filtered = np.array(EEG_filtered)\n",
    "ECoG_filtered = np.array(ECoG_filtered)\n",
    "\n",
    "reconstructed_EEG = ECoG_filtered.T.dot(timeSpacePerceptron.transformECoG.W.data.T)"
   ]
  },
  {
   "cell_type": "code",
   "execution_count": 1041,
   "metadata": {
    "collapsed": false
   },
   "outputs": [
    {
     "data": {
      "text/plain": [
       "array([-0.07171578,  0.4544678 , -0.00058178, -0.13215341,  0.19039367], dtype=float32)"
      ]
     },
     "execution_count": 1041,
     "metadata": {},
     "output_type": "execute_result"
    }
   ],
   "source": [
    "outout[1][-1].IIR.W.data[0][5:]"
   ]
  },
  {
   "cell_type": "code",
   "execution_count": 1042,
   "metadata": {
    "collapsed": false
   },
   "outputs": [
    {
     "data": {
      "text/plain": [
       "nan"
      ]
     },
     "execution_count": 1042,
     "metadata": {},
     "output_type": "execute_result"
    }
   ],
   "source": [
    "tmp_sig[-100]"
   ]
  },
  {
   "cell_type": "code",
   "execution_count": 1035,
   "metadata": {
    "collapsed": false
   },
   "outputs": [
    {
     "data": {
      "text/plain": [
       "array([[ nan,  nan,  nan, ...,  nan,  nan,  nan],\n",
       "       [ nan,  nan,  nan, ...,  nan,  nan,  nan],\n",
       "       [ nan,  nan,  nan, ...,  nan,  nan,  nan],\n",
       "       ..., \n",
       "       [ nan,  nan,  nan, ...,  nan,  nan,  nan],\n",
       "       [ nan,  nan,  nan, ...,  nan,  nan,  nan],\n",
       "       [ nan,  nan,  nan, ...,  nan,  nan,  nan]], dtype=float32)"
      ]
     },
     "execution_count": 1035,
     "metadata": {},
     "output_type": "execute_result"
    }
   ],
   "source": [
    "EEG_filtered[:, -100:]"
   ]
  },
  {
   "cell_type": "code",
   "execution_count": 1021,
   "metadata": {
    "collapsed": false
   },
   "outputs": [
    {
     "name": "stdout",
     "output_type": "stream",
     "text": [
      "nan\n",
      "nan\n",
      "nan\n",
      "nan\n",
      "nan\n",
      "nan\n",
      "nan\n",
      "nan\n",
      "nan\n",
      "nan\n",
      "nan\n",
      "nan\n",
      "nan\n",
      "nan\n",
      "nan\n",
      "nan\n"
     ]
    }
   ],
   "source": [
    "for i in range(16):\n",
    "    print(np.corrcoef(reconstructed_EEG[:, i], EEG_filtered.T[:, i])[0, 1])"
   ]
  },
  {
   "cell_type": "markdown",
   "metadata": {},
   "source": [
    "## IIR は不安定に　FIRは？"
   ]
  },
  {
   "cell_type": "code",
   "execution_count": 13,
   "metadata": {
    "collapsed": false
   },
   "outputs": [],
   "source": [
    "order = 5\n",
    "train_time = [0, 1000*2-1]\n",
    "hamming = signal.hamming(train_time[1]-train_time[0])\n",
    "#training ぶんだけにする\n",
    "#EEG_t = np.zeros((EEG.shape[0]-order+1, EEG.shape[1], order))\n",
    "#ECoG_t = np.zeros((ECoG.shape[0]-order+1, ECoG.shape[1], order))\n",
    "EEG_t = np.zeros((train_time[1]-train_time[0], EEG.shape[1], order))\n",
    "ECoG_t = np.zeros((train_time[1]-train_time[0], ECoG.shape[1], order))\n",
    "EEG_tmp = EEG[train_time[0]:train_time[1], :] *np.array([hamming]*EEG.shape[1]).T\n",
    "ECoG_tmp = ECoG[train_time[0]:train_time[1], :] *np.array([hamming]*ECoG.shape[1]).T\n",
    "for t in range(order):\n",
    "    for ch in range(EEG.shape[1]):\n",
    "        #EEG_t[:,ch,t] = EEG[:EEG.shape[0]-order+1, ch] \n",
    "        EEG_t[t:,ch,t] = EEG_tmp[t:, ch] \n",
    "    for ch in range(ECoG.shape[1]):\n",
    "        #ECoG_t[:,ch,t] = ECoG[:ECoG.shape[0]-order+1, ch] \n",
    "        ECoG_t[t:,ch,t] = ECoG_tmp[t:, ch] \n",
    "EEG_t = Variable((EEG_t[train_time[0]:train_time[1], :, :]).astype('float32'))\n",
    "ECoG_t = Variable((ECoG_t[train_time[0]:train_time[1], :, :]).astype('float32'))"
   ]
  },
  {
   "cell_type": "code",
   "execution_count": 14,
   "metadata": {
    "collapsed": false
   },
   "outputs": [],
   "source": [
    "# IIR をEEG, ECoG 全部で共通　9808.40625\n",
    "class TimeSpacePerceptron(Chain):\n",
    "    def __init__(self):\n",
    "        self.order = order\n",
    "        self.tt = 1999\n",
    "        self.eeg_num =16\n",
    "        self.ecog_num = 256\n",
    "        super(TimeSpacePerceptron, self).__init__(\n",
    "            transformECoG = L.Linear(self.ecog_num, self.eeg_num)# ECoG to EEG 空間\n",
    "            )\n",
    "        super(TimeSpacePerceptron, self).add_link('IIR', L.Linear(self.order, 1))\n",
    "        #for eeg_ch in range(self.eeg_num):\n",
    "        #    super(TimeSpacePerceptron, self).add_link('IIR_EEG{0}'.format(eeg_ch), L.Linear(10, 1))\n",
    "        #for ecog_ch in range(self.ecog_num):\n",
    "        #    super(TimeSpacePerceptron, self).add_link('IIR_ECoG{0}'.format(ecog_ch), L.Linear(10, 1))\n",
    "        self.EEG_filtered_prev = [Variable(np.zeros((self.tt, 1)).astype('float32')) for j in range(self.eeg_num)] #前の出力をいれるところ　(RNN)\n",
    "        self.ECoG_filtered_prev = [Variable(np.zeros((self.tt, 1)).astype('float32')) for j in range(self.ecog_num)] #前の出力をいれるところ\n",
    "        \n",
    "    def __call__(self, EEG_t, ECoG_t, train=False):\n",
    "        EEG_filtered_prev = self.EEG_filtered_prev\n",
    "        ECoG_filtered_prev = self.ECoG_filtered_prev\n",
    "        # EEG_t は 16 * time * time_delay\n",
    "        #EEG IIR\n",
    "        EEG_filtered = [] #  y0, y1, y2, y3, y4 が入る ch の数だけ配列\n",
    "        for ch in range(self.eeg_num):\n",
    "            pre_y = [np.zeros((self.tt, 1)).astype('float32') for  i in range(self.order)]\n",
    "            for t in range(self.order):\n",
    "                pre_y[t][t:] = EEG_filtered_prev[ch].data[:len(pre_y[t])-t]\n",
    "                pre_y[t] = Variable(pre_y[t])\n",
    "            x = EEG_t[:, ch, :]\n",
    "            y = self.__dict__['IIR'](x)\n",
    "            EEG_filtered.append(y)\n",
    "            EEG_filtered_prev[ch] = y\n",
    "        EEG_filtered = F.concat(tuple(EEG_filtered))\n",
    "        #ECoG IIR\n",
    "        ECoG_filtered = [] #  y0, y1, y2, y3, y4 が入る ch の数だけ配列\n",
    "        for ch in range(self.ecog_num):\n",
    "            pre_y = [np.zeros((self.tt, 1)).astype('float32') for  i in range(self.order)]\n",
    "            for t in range(self.order):\n",
    "                pre_y[t][t:] = ECoG_filtered_prev[ch].data[:len(pre_y[t])-t]\n",
    "                pre_y[t] = Variable(pre_y[t])\n",
    "            x = ECoG_t[:, ch, :]\n",
    "            y = self.__dict__['IIR'](x)\n",
    "            ECoG_filtered.append(y)\n",
    "            ECoG_filtered_prev[ch] = y\n",
    "        ECoG_filtered = F.concat(tuple(ECoG_filtered))\n",
    "        # ここまで IIR\n",
    "        ecog_space = self.transformECoG(ECoG_filtered)\n",
    "        ecog_space_dropout = F.dropout(ecog_space, train=train, ratio=0.5)\n",
    "        eeg  = EEG_filtered\n",
    "        self.EEG_filtered_prev =EEG_filtered_prev\n",
    "        self.ECoG_filtered_prev = ECoG_filtered_prev\n",
    "        return ecog_space_dropout, eeg\n",
    "\n",
    "    \n",
    "#    def IIR_learn(self, data, IIRs_prev, IIR_transform):\n",
    "#        #data = Variable(data.reshape((data.shape[1], data.shape[2])))\n",
    "#        x = F.concat((data, IIRs_prev[0], IIRs_prev[1], IIRs_prev[2], IIRs_prev[3], IIRs_prev[4]))\n",
    "#        y= IIR_transform(x)\n",
    "#        return([y, IIRs_prev[0], IIRs_prev[1], IIRs_prev[2],IIRs_prev[3]]) # 現在の出力と過去３つの出力\n",
    "    "
   ]
  },
  {
   "cell_type": "code",
   "execution_count": 15,
   "metadata": {
    "collapsed": false
   },
   "outputs": [
    {
     "name": "stdout",
     "output_type": "stream",
     "text": [
      "138.52205061912537\n",
      "4390.90771484375\n",
      "139.40174913406372\n",
      "9263.453125\n",
      "132.53298711776733\n",
      "363.104736328125\n",
      "131.74679899215698\n",
      "5244.06396484375\n",
      "133.4629499912262\n",
      "28101794.0\n",
      "132.2279496192932\n",
      "12690.9072265625\n",
      "137.8646957874298\n",
      "3820.031005859375\n",
      "135.02530646324158\n",
      "27982.5625\n",
      "130.27977967262268\n",
      "32135.705078125\n",
      "124.56816339492798\n",
      "3172.5029296875\n",
      "131.48776292800903\n",
      "5374.91748046875\n",
      "128.1611340045929\n",
      "999.388671875\n",
      "126.69535493850708\n",
      "1120.8641357421875\n",
      "124.87783646583557\n",
      "1222.45556640625\n",
      "125.98333954811096\n",
      "16838.826171875\n",
      "133.46216130256653\n",
      "31057.11328125\n",
      "134.31382036209106\n",
      "19893.642578125\n",
      "136.20396995544434\n",
      "13745.3603515625\n",
      "135.229017496109\n",
      "717.747802734375\n",
      "137.69600629806519\n",
      "745.171142578125\n"
     ]
    }
   ],
   "source": [
    "outout = []\n",
    "out_loss_history = []\n",
    "for n in range(20):\n",
    "    loop = 100\n",
    "    out = []\n",
    "    loss_history = np.zeros((loop, 1))\n",
    "    st = time.time()\n",
    "    timeSpacePerceptron = TimeSpacePerceptron()\n",
    "    #optimizer = optimizers.RMSprop()\n",
    "    optimizer = optimizers.AdaDelta()\n",
    "    optimizer.setup(timeSpacePerceptron)\n",
    "    optimizer.add_hook(chainer.optimizer.WeightDecay(0.05))\n",
    "    #optimizer.add_hook(chainer.optimizer.Lasso(0.5))\n",
    "    optimizer.add_hook(chainer.optimizer.GradientClipping(0.5))\n",
    "    #timeSpacePerceptron.zerograds()\n",
    "    for i in range(loop):\n",
    "        timeSpacePerceptron.zerograds()\n",
    "        x1, x2 = timeSpacePerceptron(EEG_t, ECoG_t, train=True)\n",
    "        loss = F.mean_squared_error(x1, x2)\n",
    "        loss.backward()\n",
    "        optimizer.prepare()\n",
    "        optimizer.update()\n",
    "        loss_history[i] = loss.data\n",
    "        out.append(copy.deepcopy(timeSpacePerceptron))\n",
    "    print(time.time()-st)\n",
    "    print(loss.data)\n",
    "    out_loss_history.append(loss_history)\n",
    "    outout.append(out)"
   ]
  },
  {
   "cell_type": "code",
   "execution_count": null,
   "metadata": {
    "collapsed": false
   },
   "outputs": [
    {
     "name": "stdout",
     "output_type": "stream",
     "text": [
      "6443.550512075424\n",
      "12320.5419921875\n",
      "6421.349303007126\n",
      "9569.052734375\n",
      "6415.3832948207855\n",
      "30569.134765625\n",
      "6414.722562074661\n",
      "1010.7867431640625\n",
      "6474.673071861267\n",
      "1218.3746337890625\n",
      "6460.043811798096\n",
      "12719.6416015625\n",
      "6432.408093929291"
     ]
    }
   ],
   "source": [
    "outout = []\n",
    "out_loss_history = []\n",
    "for n in range(20):\n",
    "    loop = 100\n",
    "    out = []\n",
    "    loss_history = np.zeros((loop, 1))\n",
    "    st = time.time()\n",
    "    timeSpacePerceptron = TimeSpacePerceptron()\n",
    "    #optimizer = optimizers.RMSprop()\n",
    "    optimizer = optimizers.AdaDelta()\n",
    "    optimizer.setup(timeSpacePerceptron)\n",
    "    optimizer.add_hook(chainer.optimizer.WeightDecay(0.05))\n",
    "    #optimizer.add_hook(chainer.optimizer.Lasso(0.5))\n",
    "    optimizer.add_hook(chainer.optimizer.GradientClipping(0.5))\n",
    "    #timeSpacePerceptron.zerograds()\n",
    "    for i in range(loop):\n",
    "        timeSpacePerceptron.zerograds()\n",
    "        x1, x2 = timeSpacePerceptron(EEG_t, ECoG_t, train=True)\n",
    "        loss = F.mean_squared_error(x1, x2)\n",
    "        loss.backward()\n",
    "        optimizer.prepare()\n",
    "        optimizer.update()\n",
    "        loss_history[i] = loss.data\n",
    "        out.append(copy.deepcopy(timeSpacePerceptron))\n",
    "    print(time.time()-st)\n",
    "    print(loss.data)\n",
    "    out_loss_history.append(loss_history)\n",
    "    outout.append(out)"
   ]
  },
  {
   "cell_type": "code",
   "execution_count": 1094,
   "metadata": {
    "collapsed": false
   },
   "outputs": [
    {
     "data": {
      "text/plain": [
       "[<matplotlib.lines.Line2D at 0xa30bb3b38>]"
      ]
     },
     "execution_count": 1094,
     "metadata": {},
     "output_type": "execute_result"
    },
    {
     "data": {
      "image/png": "[encoded data removed]",
      "text/plain": [
       "<matplotlib.figure.Figure at 0x1286bdfd0>"
      ]
     },
     "metadata": {},
     "output_type": "display_data"
    }
   ],
   "source": [
    "plt.plot(loss_history)"
   ]
  },
  {
   "cell_type": "code",
   "execution_count": 1104,
   "metadata": {
    "collapsed": false
   },
   "outputs": [
    {
     "data": {
      "text/plain": [
       "[<matplotlib.lines.Line2D at 0xa35010828>]"
      ]
     },
     "execution_count": 1104,
     "metadata": {},
     "output_type": "execute_result"
    },
    {
     "data": {
      "image/png": "[encoded data removed]",
      "text/plain": [
       "<matplotlib.figure.Figure at 0xa34ec0898>"
      ]
     },
     "metadata": {},
     "output_type": "display_data"
    }
   ],
   "source": [
    "plt.plot(out_loss_history[5])"
   ]
  },
  {
   "cell_type": "code",
   "execution_count": 1083,
   "metadata": {
    "collapsed": false
   },
   "outputs": [
    {
     "data": {
      "text/plain": [
       "array([ 0.31447148,  0.59061474,  0.2476957 , -0.96043068, -0.20041619], dtype=float32)"
      ]
     },
     "execution_count": 1083,
     "metadata": {},
     "output_type": "execute_result"
    }
   ],
   "source": [
    "outout[0][-1].IIR.W.data[0]"
   ]
  },
  {
   "cell_type": "code",
   "execution_count": 1105,
   "metadata": {
    "collapsed": false
   },
   "outputs": [
    {
     "data": {
      "text/plain": [
       "[<matplotlib.lines.Line2D at 0xa35119400>]"
      ]
     },
     "execution_count": 1105,
     "metadata": {},
     "output_type": "execute_result"
    },
    {
     "data": {
      "image/png": "[encoded data removed]",
      "text/plain": [
       "<matplotlib.figure.Figure at 0xa350295c0>"
      ]
     },
     "metadata": {},
     "output_type": "display_data"
    }
   ],
   "source": [
    "w, h = signal.freqz(1, outout[5][-1].IIR.W.data[0])\n",
    "plt.plot(np.abs(h))"
   ]
  },
  {
   "cell_type": "code",
   "execution_count": 1068,
   "metadata": {
    "collapsed": false
   },
   "outputs": [
    {
     "data": {
      "text/plain": [
       "array([ 0.29418254, -0.08592386, -0.23537061,  0.24182099, -0.21465771], dtype=float32)"
      ]
     },
     "execution_count": 1068,
     "metadata": {},
     "output_type": "execute_result"
    }
   ],
   "source": [
    "outout[1][-1].IIR.W.data[0]"
   ]
  },
  {
   "cell_type": "code",
   "execution_count": 1000,
   "metadata": {
    "collapsed": false
   },
   "outputs": [
    {
     "data": {
      "text/plain": [
       "[<matplotlib.lines.Line2D at 0x24119f668>]"
      ]
     },
     "execution_count": 1000,
     "metadata": {},
     "output_type": "execute_result"
    },
    {
     "data": {
      "image/png": "[encoded data removed]",
      "text/plain": [
       "<matplotlib.figure.Figure at 0x176f667f0>"
      ]
     },
     "metadata": {},
     "output_type": "display_data"
    }
   ],
   "source": [
    "plt.plot(loss_history)"
   ]
  },
  {
   "cell_type": "code",
   "execution_count": 1001,
   "metadata": {
    "collapsed": false
   },
   "outputs": [],
   "source": [
    "from scipy import signal\n",
    "w, h = signal.freqz(out[-1].IIR.W.data[0][5:], out[-1].IIR.W.data[0][0:5])"
   ]
  },
  {
   "cell_type": "code",
   "execution_count": 1002,
   "metadata": {
    "collapsed": false
   },
   "outputs": [
    {
     "data": {
      "text/plain": [
       "[<matplotlib.lines.Line2D at 0x1bb67be48>]"
      ]
     },
     "execution_count": 1002,
     "metadata": {},
     "output_type": "execute_result"
    },
    {
     "data": {
      "image/png": "[encoded data removed]",
      "text/plain": [
       "<matplotlib.figure.Figure at 0x1bc731d68>"
      ]
     },
     "metadata": {},
     "output_type": "display_data"
    }
   ],
   "source": [
    "plt.plot(np.abs(h))"
   ]
  },
  {
   "cell_type": "code",
   "execution_count": 975,
   "metadata": {
    "collapsed": false
   },
   "outputs": [
    {
     "ename": "AttributeError",
     "evalue": "'TimeSpacePerceptron' object has no attribute 'IIR_EEG0'",
     "output_type": "error",
     "traceback": [
      "\u001b[0;31m---------------------------------------------------------------------------\u001b[0m",
      "\u001b[0;31mAttributeError\u001b[0m                            Traceback (most recent call last)",
      "\u001b[0;32m<ipython-input-975-e96e6ffc45aa>\u001b[0m in \u001b[0;36m<module>\u001b[0;34m()\u001b[0m\n\u001b[0;32m----> 1\u001b[0;31m \u001b[0mout\u001b[0m\u001b[0;34m[\u001b[0m\u001b[0;34m-\u001b[0m\u001b[0;36m1\u001b[0m\u001b[0;34m]\u001b[0m\u001b[0;34m.\u001b[0m\u001b[0mIIR_EEG0\u001b[0m\u001b[0;34m.\u001b[0m\u001b[0mW\u001b[0m\u001b[0;34m.\u001b[0m\u001b[0mdata\u001b[0m\u001b[0;34m\u001b[0m\u001b[0m\n\u001b[0m",
      "\u001b[0;31mAttributeError\u001b[0m: 'TimeSpacePerceptron' object has no attribute 'IIR_EEG0'"
     ]
    }
   ],
   "source": [
    "out[-1].IIR_EEG0.W.data "
   ]
  },
  {
   "cell_type": "code",
   "execution_count": null,
   "metadata": {
    "collapsed": false
   },
   "outputs": [],
   "source": [
    "out[0].IIR_EEG1.W.data - out[1].IIR_EEG1.W.data"
   ]
  },
  {
   "cell_type": "code",
   "execution_count": null,
   "metadata": {
    "collapsed": false
   },
   "outputs": [],
   "source": [
    "out[0].IIR_ECoG0.W.data - out[1].IIR_ECoG0.W.data"
   ]
  },
  {
   "cell_type": "code",
   "execution_count": null,
   "metadata": {
    "collapsed": false
   },
   "outputs": [],
   "source": [
    "out[0].transformECoG.W.data - out[1].transformECoG.W.data"
   ]
  },
  {
   "cell_type": "code",
   "execution_count": null,
   "metadata": {
    "collapsed": false
   },
   "outputs": [],
   "source": [
    "out[-1].IIR_EEG0.W.data"
   ]
  },
  {
   "cell_type": "markdown",
   "metadata": {},
   "source": [
    "## フィルター復元"
   ]
  },
  {
   "cell_type": "code",
   "execution_count": 307,
   "metadata": {
    "collapsed": false
   },
   "outputs": [],
   "source": [
    "EEG_filtered, ECoG_filtered = [], []\n",
    "for ch in range(EEG.shape[1]):\n",
    "    tmp_sig = signal.lfilter(timeSpacePerceptron.IIR_EEG[ch].W.data[0][4:7], timeSpacePerceptron.IIR_EEG[ch].W.data[0][0:3], EEG[:, ch])\n",
    "    EEG_filtered.append(tmp_sig)\n",
    "for ch in range(ECoG.shape[1]):\n",
    "    tmp_sig = signal.lfilter(timeSpacePerceptron.IIR_ECoG[ch].W.data[0][4:7], timeSpacePerceptron.IIR_ECoG[ch].W.data[0][0:3], ECoG[:, ch])\n",
    "    ECoG_filtered.append(tmp_sig)\n",
    "EEG_filtered = np.array(EEG_filtered)\n",
    "ECoG_filtered = np.array(ECoG_filtered)\n",
    "\n",
    "reconstructed_ECoG = EEG_filtered.T.dot(timeSpacePerceptron.transformEEG.W.data.T)"
   ]
  },
  {
   "cell_type": "code",
   "execution_count": 308,
   "metadata": {
    "collapsed": false
   },
   "outputs": [
    {
     "name": "stderr",
     "output_type": "stream",
     "text": [
      "/Users/vv000844/.pyenvi/versions/anaconda3-2.5.0/lib/python3.5/site-packages/numpy/lib/function_base.py:953: RuntimeWarning: invalid value encountered in multiply\n",
      "  scl = np.multiply(avg, 0) + scl\n",
      "/Users/vv000844/.pyenvi/versions/anaconda3-2.5.0/lib/python3.5/site-packages/numpy/lib/function_base.py:2479: RuntimeWarning: invalid value encountered in subtract\n",
      "  X -= avg[:, None]\n"
     ]
    }
   ],
   "source": [
    "tmp = []\n",
    "for ch in range(256):\n",
    "    tmp.append(np.corrcoef(reconstructed_ECoG.T[ch,:], ECoG_filtered[ch, :])[0,1])"
   ]
  },
  {
   "cell_type": "code",
   "execution_count": 298,
   "metadata": {
    "collapsed": false
   },
   "outputs": [
    {
     "data": {
      "text/plain": [
       "299151"
      ]
     },
     "execution_count": 298,
     "metadata": {},
     "output_type": "execute_result"
    }
   ],
   "source": [
    "np.sum(np.isnan(ECoG_filtered[255, :]))"
   ]
  },
  {
   "cell_type": "code",
   "execution_count": 474,
   "metadata": {
    "collapsed": false
   },
   "outputs": [],
   "source": [
    "class common_TimeSpacePerceptron(Chain): # IIR がみんな同じ\n",
    "    def __init__(self):\n",
    "        tt = 999\n",
    "        super(common_TimeSpacePerceptron, self).__init__(\n",
    "            transformEEG = L.Linear(16, 256)# EEG 空間\n",
    "            )\n",
    "        self.IIR = L.Linear(7, 1)\n",
    "        self.EEG_IIRs_prev = [[Variable(np.zeros((tt, 1)).astype('float32')) for i in range(4)] for j in range(16)] #前の出力をいれるところ　(RNN)\n",
    "        self.ECoG_IIRs_prev = [[Variable(np.zeros((tt, 1)).astype('float32')) for i in range(4)] for j in range(256)] #前の出力をいれるところ\n",
    "        \n",
    "    def __call__(self, EEG_t, ECoG_t, train=False):\n",
    "        EEG_IIRs_prev = self.EEG_IIRs_prev\n",
    "        ECoG_IIRs_prev = self.ECoG_IIRs_prev\n",
    "        # EEG_t は 16 * time * time_delay\n",
    "        EEG_IIRs = [] #  y0, y1, y2, y3 が入る ch の数だけ配列\n",
    "        for ch in range(EEG_t.data.shape[1]):\n",
    "            EEG_IIRs.append(self.IIR_learn(EEG_t[:, ch, :], EEG_IIRs_prev[ch], self.IIR))\n",
    "        ECoG_IIRs = [] #  y0, y1, y2, y3 が入る ch の数だけ配列\n",
    "        for ch in range(ECoG_t.data.shape[1]):\n",
    "            ECoG_IIRs.append(self.IIR_learn(ECoG_t[:, ch, :], ECoG_IIRs_prev[ch], self.IIR))\n",
    "        EEG_filtered, ECoG_filtered = [], []\n",
    "        for ch in range(EEG_t.data.shape[1]):\n",
    "            EEG_filtered.append(EEG_IIRs[ch][0])\n",
    "        EEG_filtered = F.concat(tuple(EEG_filtered))\n",
    "        for ch in range(ECoG_t.data.shape[1]):\n",
    "            ECoG_filtered.append(ECoG_IIRs[ch][0])\n",
    "        ECoG_filtered = F.concat(tuple(ECoG_filtered))\n",
    "        # ここまで IIR\n",
    "        eeg_space = self.transformEEG(EEG_filtered)\n",
    "        eeg_space_dropout = F.dropout(eeg_space, train=train, ratio=0.5)\n",
    "        ecog  = ECoG_filtered\n",
    "        y = eeg_space_dropout - ecog\n",
    "        self.EEG_IIRs_prev = EEG_IIRs\n",
    "        self.ECoG_IIRs_prev = ECoG_IIRs\n",
    "        return eeg_space_dropout, ecog\n",
    "    \n",
    "    def IIR_learn(self, data, IIRs_prev, IIR_transform):\n",
    "        #data = Variable(data.reshape((data.shape[1], data.shape[2])))\n",
    "        x = F.concat((data, IIRs_prev[0], IIRs_prev[1], IIRs_prev[2]))\n",
    "        y= IIR_transform(x)\n",
    "        return([y, IIRs_prev[0], IIRs_prev[1], IIRs_prev[2]]) # 現在の出力と過去３つの出力\n",
    "    "
   ]
  },
  {
   "cell_type": "code",
   "execution_count": 475,
   "metadata": {
    "collapsed": false
   },
   "outputs": [],
   "source": [
    "timeSpacePerceptron = common_TimeSpacePerceptron()\n",
    "optimizer = optimizers.AdaDelta()\n",
    "optimizer.setup(timeSpacePerceptron)\n",
    "optimizer.weight_decay(0.0005)\n",
    "timeSpacePerceptron.zerograds()"
   ]
  },
  {
   "cell_type": "code",
   "execution_count": 476,
   "metadata": {
    "collapsed": false
   },
   "outputs": [
    {
     "name": "stdout",
     "output_type": "stream",
     "text": [
      "14.419137001037598\n",
      "24934920.0\n"
     ]
    }
   ],
   "source": [
    "loop = 3\n",
    "loss_history = np.zeros((loop, 1))\n",
    "st = time.time()\n",
    "EEG_t = np.zeros((EEG.shape[0]-3, EEG.shape[1], 4))\n",
    "ECoG_t = np.zeros((ECoG.shape[0]-3, ECoG.shape[1], 4))\n",
    "train_time = [0, 1000*1-1]\n",
    "for t in range(4):\n",
    "    for ch in range(EEG.shape[1]):\n",
    "        EEG_t[:,ch,t] = EEG[t:EEG.shape[0]-3+t, ch]\n",
    "    for ch in range(ECoG.shape[1]):\n",
    "        ECoG_t[:,ch,t] = ECoG[t:ECoG.shape[0]-3+t, ch]\n",
    "EEG_t = Variable(EEG_t[train_time[0]:train_time[1], :, :].astype('float32'))\n",
    "ECoG_t = Variable(ECoG_t[train_time[0]:train_time[1], :, :].astype('float32'))\n",
    "for i in range(loop):\n",
    "    x1, x2 = timeSpacePerceptron(EEG_t, ECoG_t, train=True)\n",
    "    loss = F.mean_squared_error(x1, x2)\n",
    "    loss.backward()\n",
    "    optimizer.update()\n",
    "    loss_history[i] = loss.data\n",
    "print(time.time()-st)\n",
    "print(loss.data)"
   ]
  },
  {
   "cell_type": "code",
   "execution_count": 477,
   "metadata": {
    "collapsed": false
   },
   "outputs": [
    {
     "data": {
      "text/plain": [
       "[<matplotlib.lines.Line2D at 0x11812a4a8>]"
      ]
     },
     "execution_count": 477,
     "metadata": {},
     "output_type": "execute_result"
    },
    {
     "data": {
      "image/png": "[encoded data removed]",
      "text/plain": [
       "<matplotlib.figure.Figure at 0x176ffda20>"
      ]
     },
     "metadata": {},
     "output_type": "display_data"
    }
   ],
   "source": [
    "plt.plot(loss_history)"
   ]
  },
  {
   "cell_type": "code",
   "execution_count": 347,
   "metadata": {
    "collapsed": false
   },
   "outputs": [
    {
     "data": {
      "text/plain": [
       "[<matplotlib.lines.Line2D at 0x225d6bf60>]"
      ]
     },
     "execution_count": 347,
     "metadata": {},
     "output_type": "execute_result"
    },
    {
     "data": {
      "image/png": "[encoded data removed]",
      "text/plain": [
       "<matplotlib.figure.Figure at 0x2314684e0>"
      ]
     },
     "metadata": {},
     "output_type": "display_data"
    }
   ],
   "source": [
    "plt.plot(loss_history)"
   ]
  },
  {
   "cell_type": "code",
   "execution_count": 300,
   "metadata": {
    "collapsed": true
   },
   "outputs": [],
   "source": [
    "class FIR_TimeSpacePerceptron(Chain):\n",
    "    def __init__(self):\n",
    "        tt = 59999\n",
    "        super(TimeSpacePerceptron, self).__init__(\n",
    "            transformEEG = L.Linear(17, 256)# EEG 空間\n",
    "            )\n",
    "        self.FIR_EEG = [L.Linear(7, 1) for i in range(16)] , #copy されているかは要チェック\n",
    "        self.FIR_ECoG = [L.Linear(7, 1)] * 256\n",
    "        \n",
    "    def __call__(self, EEG_t, ECoG_t, train=False):\n",
    "        EEG_FIRs = [] #  ch の数だけ配列\n",
    "        for ch in range(EEG_t.data.shape[1]):\n",
    "            EEG_FIRs.append(self.FIR_learn(EEG_t[:, ch, :], self.FIR_EEG[ch]))\n",
    "        ECoG_FIRs = [] #  ch の数だけ配列\n",
    "        for ch in range(ECoG_t.data.shape[1]):\n",
    "            ECoG_FIRs.append(self.IIR_learn(ECoG_t[:, ch, :], self.FIR_ECoG[ch]))\n",
    "        EEG_filtered, ECoG_filtered = [], []\n",
    "        for ch in range(EEG_t.data.shape[1]):\n",
    "            EEG_filtered.append(EEG_FIRs[ch][0])\n",
    "        EEG_filtered = F.concat(tuple(EEG_filtered))\n",
    "        for ch in range(ECoG_t.data.shape[1]):\n",
    "            ECoG_filtered.append(ECoG_FIRs[ch][0])\n",
    "        ECoG_filtered = F.concat(tuple(ECoG_filtered))\n",
    "        EEG_filtered = FIR_learn(EEG_t)\n",
    "        eeg_space = self.transformEEG(EEG_filtered)\n",
    "        eeg_space_dropout = F.dropout(eeg_space, train=train, ratio=0.5)\n",
    "        ecog  = ECoG_filtered\n",
    "        y = eeg_space_dropout - ecog\n",
    "        return y\n",
    "    \n",
    "    def FIR_learn(self, data, IIR_transform):\n",
    "        #data = Variable(data.reshape((data.shape[1], data.shape[2])))\n",
    "        #x = F.concat((data, IIRs_prev[0], IIRs_prev[1], IIRs_prev[2]))\n",
    "        x = data\n",
    "        y= IIR_transform(x)\n",
    "        return y"
   ]
  },
  {
   "cell_type": "code",
   "execution_count": null,
   "metadata": {
    "collapsed": true
   },
   "outputs": [],
   "source": [
    "fir_timeSpacePerceptron = FIR_TimeSpacePerceptron()\n",
    "optimizer = optimizers.AdaDelta()\n",
    "optimizer.setup(fir_timeSpacePerceptron)\n",
    "optimizer.weight_decay(0.0005)"
   ]
  },
  {
   "cell_type": "code",
   "execution_count": null,
   "metadata": {
    "collapsed": true
   },
   "outputs": [],
   "source": [
    "fir_timeSpacePerceptron.zerograds()\n",
    "loop = 3\n",
    "cor_history = np.zeros((loop, 256))\n",
    "loss_history = np.zeros((loop, 1))\n",
    "st = time.time()\n",
    "EEG_t = np.zeros((EEG.shape[0]-3, EEG.shape[1], 4))\n",
    "ECoG_t = np.zeros((ECoG.shape[0]-3, ECoG.shape[1], 4))\n",
    "train_time = [0, 1000*60-1]\n",
    "for t in range(4):\n",
    "    for ch in range(EEG.shape[1]):\n",
    "        EEG_t[:,ch,t] = EEG[t:EEG.shape[0]-3+t, ch]\n",
    "    for ch in range(ECoG.shape[1]):\n",
    "        ECoG_t[:,ch,t] = ECoG[t:ECoG.shape[0]-3+t, ch]\n",
    "EEG_t = Variable(EEG_t[train_time[0]:train_time[1], :, :].astype('float32'))\n",
    "ECoG_t = Variable(ECoG_t[train_time[0]:train_time[1], :, :].astype('float32'))\n",
    "for i in range(loop):\n",
    "    loss = F.sum(fir_timeSpacePerceptron(EEG_t, ECoG_t, train=True) **2)\n",
    "    loss.backward()\n",
    "    optimizer.update()\n",
    "    loss_history[i] = loss.data\n",
    "    print(time.time()-st)\n",
    "    print(loss.data)"
   ]
  }
 ],
 "metadata": {
  "anaconda-cloud": {},
  "kernelspec": {
   "display_name": "Python [default]",
   "language": "python",
   "name": "python3"
  },
  "language_info": {
   "codemirror_mode": {
    "name": "ipython",
    "version": 3
   },
   "file_extension": ".py",
   "mimetype": "text/x-python",
   "name": "python",
   "nbconvert_exporter": "python",
   "pygments_lexer": "ipython3",
   "version": "3.5.2"
  }
 },
 "nbformat": 4,
 "nbformat_minor": 0
}
